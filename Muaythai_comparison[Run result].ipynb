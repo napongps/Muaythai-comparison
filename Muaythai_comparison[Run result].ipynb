{
  "cells": [
    {
      "cell_type": "markdown",
      "metadata": {
        "id": "view-in-github",
        "colab_type": "text"
      },
      "source": [
        "<a href=\"https://colab.research.google.com/github/napongps/Muaythai-comparison/blob/main/Muaythai_comparison%5BRun%20result%5D.ipynb\" target=\"_parent\"><img src=\"https://colab.research.google.com/assets/colab-badge.svg\" alt=\"Open In Colab\"/></a>"
      ]
    },
    {
      "cell_type": "code",
      "execution_count": 135,
      "metadata": {
        "colab": {
          "base_uri": "https://localhost:8080/"
        },
        "id": "GuHqHTXvYryQ",
        "outputId": "4989ae0a-91e5-472f-d18e-1c819eaa2b39"
      },
      "outputs": [
        {
          "output_type": "execute_result",
          "data": {
            "text/plain": [
              "True"
            ]
          },
          "metadata": {},
          "execution_count": 135
        }
      ],
      "source": [
        "def in_colab():\n",
        "    from IPython.core import getipython\n",
        "    return 'google.colab' in str(getipython.get_ipython())\n",
        "\n",
        "in_colab()"
      ]
    },
    {
      "cell_type": "code",
      "execution_count": 136,
      "metadata": {
        "colab": {
          "base_uri": "https://localhost:8080/"
        },
        "id": "NvlFR8h-ZGZ5",
        "outputId": "707cfb26-6320-4669-e10e-635838258aba"
      },
      "outputs": [
        {
          "output_type": "stream",
          "name": "stdout",
          "text": [
            "Requirement already satisfied: mediapipe in /usr/local/lib/python3.10/dist-packages (0.10.7)\n",
            "Requirement already satisfied: absl-py in /usr/local/lib/python3.10/dist-packages (from mediapipe) (1.4.0)\n",
            "Requirement already satisfied: attrs>=19.1.0 in /usr/local/lib/python3.10/dist-packages (from mediapipe) (23.1.0)\n",
            "Requirement already satisfied: flatbuffers>=2.0 in /usr/local/lib/python3.10/dist-packages (from mediapipe) (23.5.26)\n",
            "Requirement already satisfied: matplotlib in /usr/local/lib/python3.10/dist-packages (from mediapipe) (3.7.1)\n",
            "Requirement already satisfied: numpy in /usr/local/lib/python3.10/dist-packages (from mediapipe) (1.23.5)\n",
            "Requirement already satisfied: opencv-contrib-python in /usr/local/lib/python3.10/dist-packages (from mediapipe) (4.8.0.76)\n",
            "Requirement already satisfied: protobuf<4,>=3.11 in /usr/local/lib/python3.10/dist-packages (from mediapipe) (3.20.3)\n",
            "Requirement already satisfied: sounddevice>=0.4.4 in /usr/local/lib/python3.10/dist-packages (from mediapipe) (0.4.6)\n",
            "Requirement already satisfied: CFFI>=1.0 in /usr/local/lib/python3.10/dist-packages (from sounddevice>=0.4.4->mediapipe) (1.16.0)\n",
            "Requirement already satisfied: contourpy>=1.0.1 in /usr/local/lib/python3.10/dist-packages (from matplotlib->mediapipe) (1.1.1)\n",
            "Requirement already satisfied: cycler>=0.10 in /usr/local/lib/python3.10/dist-packages (from matplotlib->mediapipe) (0.12.1)\n",
            "Requirement already satisfied: fonttools>=4.22.0 in /usr/local/lib/python3.10/dist-packages (from matplotlib->mediapipe) (4.43.1)\n",
            "Requirement already satisfied: kiwisolver>=1.0.1 in /usr/local/lib/python3.10/dist-packages (from matplotlib->mediapipe) (1.4.5)\n",
            "Requirement already satisfied: packaging>=20.0 in /usr/local/lib/python3.10/dist-packages (from matplotlib->mediapipe) (23.2)\n",
            "Requirement already satisfied: pillow>=6.2.0 in /usr/local/lib/python3.10/dist-packages (from matplotlib->mediapipe) (9.4.0)\n",
            "Requirement already satisfied: pyparsing>=2.3.1 in /usr/local/lib/python3.10/dist-packages (from matplotlib->mediapipe) (3.1.1)\n",
            "Requirement already satisfied: python-dateutil>=2.7 in /usr/local/lib/python3.10/dist-packages (from matplotlib->mediapipe) (2.8.2)\n",
            "Requirement already satisfied: pycparser in /usr/local/lib/python3.10/dist-packages (from CFFI>=1.0->sounddevice>=0.4.4->mediapipe) (2.21)\n",
            "Requirement already satisfied: six>=1.5 in /usr/local/lib/python3.10/dist-packages (from python-dateutil>=2.7->matplotlib->mediapipe) (1.16.0)\n",
            "Requirement already satisfied: opencv-python in /usr/local/lib/python3.10/dist-packages (4.8.0.76)\n",
            "Requirement already satisfied: numpy>=1.21.2 in /usr/local/lib/python3.10/dist-packages (from opencv-python) (1.23.5)\n",
            "Requirement already satisfied: pyshine in /usr/local/lib/python3.10/dist-packages (0.0.9)\n",
            "Requirement already satisfied: numpy in /usr/local/lib/python3.10/dist-packages (from pyshine) (1.23.5)\n",
            "Requirement already satisfied: plotly in /usr/local/lib/python3.10/dist-packages (5.15.0)\n",
            "Requirement already satisfied: tenacity>=6.2.0 in /usr/local/lib/python3.10/dist-packages (from plotly) (8.2.3)\n",
            "Requirement already satisfied: packaging in /usr/local/lib/python3.10/dist-packages (from plotly) (23.2)\n",
            "Requirement already satisfied: wget in /usr/local/lib/python3.10/dist-packages (3.2)\n"
          ]
        }
      ],
      "source": [
        "if in_colab():\n",
        "    !pip install mediapipe\n",
        "    !pip install opencv-python\n",
        "    !pip install pyshine\n",
        "    !pip install plotly\n",
        "    !pip install wget\n",
        "# else:\n",
        "#     %autosave 60\n",
        "#     %pip install --upgrade ipykernel"
      ]
    },
    {
      "cell_type": "code",
      "execution_count": 137,
      "metadata": {
        "id": "3bc9353LP4om"
      },
      "outputs": [],
      "source": [
        "import os\n",
        "import math\n",
        "import cv2\n",
        "import numpy as np\n",
        "import mediapipe as mp\n",
        "import matplotlib.pyplot as plt\n",
        "import pandas as pd\n",
        "import pickle\n",
        "import pyshine as ps\n",
        "from glob import glob\n",
        "import plotly.express as px\n",
        "import plotly.graph_objects as go\n",
        "from plotly.subplots import make_subplots"
      ]
    },
    {
      "cell_type": "code",
      "execution_count": 138,
      "metadata": {
        "colab": {
          "base_uri": "https://localhost:8080/"
        },
        "id": "Dyji0InjP29r",
        "outputId": "1dd02d66-3d4b-4d6a-cb2d-9dad78130adc"
      },
      "outputs": [
        {
          "output_type": "stream",
          "name": "stdout",
          "text": [
            "Drive already mounted at /content/drive; to attempt to forcibly remount, call drive.mount(\"/content/drive\", force_remount=True).\n"
          ]
        }
      ],
      "source": [
        "if in_colab():\n",
        "    from google.colab import drive\n",
        "    drive.mount('/content/drive')\n",
        "\n",
        "    # !mkdir Resources\n",
        "    # !mkdir 'Resources/Video_เพื่อน'\n",
        "    # !mkdir 'Resources/Different camera angle'\n",
        "\n",
        "    # %cp -r '/content/drive/MyDrive/Resources/Video_เพื่อน/landmarks' ./\n",
        "    # os.rename('landmarks', '/content/Resources/Video_เพื่อน/landmarks')\n",
        "    # %cp -r '/content/drive/MyDrive/Resources/Different camera angle/landmarks' ./\n",
        "    # os.rename('landmarks', '/content/Resources/Different camera angle/landmarks')\n",
        "    # %cp -r '/content/drive/MyDrive/Resources/weight_config_angle_list.csv' ./\n",
        "    # os.rename('/content/weight_config_angle_list.csv', '/content/Resources/weight_config_angle_list.csv')\n",
        "    # %cp -r '/content/drive/MyDrive/Resources/weight_config_cosine_list.csv' ./\n",
        "    # os.rename('/content/weight_config_cosine_list.csv', '/content/Resources/weight_config_cosine_list.csv')"
      ]
    },
    {
      "cell_type": "code",
      "execution_count": 139,
      "metadata": {
        "id": "LqDn8WkjQAZd"
      },
      "outputs": [],
      "source": [
        "mp_pose = mp.solutions.pose\n",
        "\n",
        "pose_video = mp_pose.Pose(static_image_mode=False,\n",
        "                          min_detection_confidence=0.5, model_complexity=2)\n",
        "\n",
        "mp_drawing = mp.solutions.drawing_utils\n",
        "mp_drawing_styles = mp.solutions.drawing_styles"
      ]
    },
    {
      "cell_type": "code",
      "execution_count": 140,
      "metadata": {
        "id": "0ECpkbNPZcpI"
      },
      "outputs": [],
      "source": [
        "if in_colab():\n",
        "    resource = '/content/drive/MyDrive/Resources'\n",
        "    friends_video = resource+'/Video_เพื่อน'\n",
        "    diff_angle = resource+'/Different camera angle'\n",
        "    slash = '/'\n",
        "    desktop = '/content'\n",
        "else:\n",
        "    resource = f'C:\\\\Users\\\\{os.getlogin()}\\Desktop\\\\resource'\n",
        "    friends_video = f'C:\\\\Users\\\\{os.getlogin()}\\\\Desktop\\\\resource\\\\Video_เพื่อน'\n",
        "    diff_angle = f'C:\\\\Users\\\\{os.getlogin()}\\\\Desktop\\\\resource\\\\Different camera angle'\n",
        "    slash = '\\\\'\n",
        "    desktop = f'C:\\\\Users\\\\{os.getlogin()}\\Desktop'"
      ]
    },
    {
      "cell_type": "markdown",
      "metadata": {
        "id": "SaTKEdXjDvbR"
      },
      "source": [
        "# Landmark detection"
      ]
    },
    {
      "cell_type": "code",
      "execution_count": 141,
      "metadata": {
        "id": "xjW8XJLyQLM0"
      },
      "outputs": [],
      "source": [
        "def detectPose(frame: np.array):\n",
        "    \"\"\"\n",
        "    Input:\n",
        "        frame = numpy array of frame that is extracted by cv2\n",
        "\n",
        "    Output:\n",
        "        output_image = image that has skeleton in that frame\n",
        "        norm_landmarks = camera coordinate every keypoint in that frame\n",
        "        norm_world_landmarks = world coordinate every keypoint in that frame\n",
        "    \"\"\"\n",
        "\n",
        "    output_image = frame.copy()\n",
        "    output_image.flags.writeable = False\n",
        "    result = pose_video.process(output_image)\n",
        "\n",
        "    output_image.flags.writeable = True\n",
        "    if result.pose_landmarks:\n",
        "        norm_landmarks = result.pose_landmarks.landmark  # camera coordinate\n",
        "        norm_world_landmarks = result.pose_world_landmarks.landmark  # world coordinate\n",
        "\n",
        "        # เอา landmark ที่ไม่ได้ใช้ออก ใบหน้า นิ้วต่างๆ\n",
        "        exclude_lndmk = list(range(11))\n",
        "        exclude_lndmk.extend([29, 30, 17, 18, 21, 22])\n",
        "\n",
        "        for i in exclude_lndmk:\n",
        "            norm_landmarks[i].visibility = 0\n",
        "\n",
        "        mp_drawing.draw_landmarks(image=output_image,\n",
        "                                  landmark_list=result.pose_landmarks,\n",
        "                                  connections=mp_pose.POSE_CONNECTIONS,\n",
        "                                  landmark_drawing_spec=mp_drawing_styles.get_default_pose_landmarks_style())\n",
        "\n",
        "    return output_image, norm_landmarks, norm_world_landmarks"
      ]
    },
    {
      "cell_type": "code",
      "execution_count": 142,
      "metadata": {
        "id": "FEHtKw71yn5D"
      },
      "outputs": [],
      "source": [
        "def formatJoint(landmarks_obj: list):\n",
        "    \"\"\"\n",
        "    Input:\n",
        "        landmarks_obj = result landmarks that get from mediapipe\n",
        "\n",
        "    Output:\n",
        "        list of x,z,y coordinate for every keypoint eg. [[x1, y1, z1], [x2, y1, z1], ..., [x33, y33, z33]]\n",
        "    \"\"\"\n",
        "\n",
        "    return list(map(lambda ladk: [ladk.x, ladk.y, ladk.z], landmarks_obj))"
      ]
    },
    {
      "cell_type": "code",
      "execution_count": 143,
      "metadata": {
        "id": "WOWH6TpsR8bK"
      },
      "outputs": [],
      "source": [
        "def landmark_detection(path_vid: str):\n",
        "    \"\"\"\n",
        "    Input:\n",
        "        path_vid = path of video\n",
        "\n",
        "    Output:\n",
        "        cam_ladk = numpy array that contain camera coordinate of all keypoint in every frame of the video\n",
        "        world_ladk = numpy array that contain world coordinate of all keypoint in every frame of the video\n",
        "        all_frame = list that contain all skeletal frame in the video\n",
        "    \"\"\"\n",
        "\n",
        "    video = cv2.VideoCapture(path_vid)\n",
        "\n",
        "    all_frame = []\n",
        "    cam_ladk = []\n",
        "    world_ladk = []\n",
        "    count = 0\n",
        "\n",
        "    while video.isOpened():\n",
        "\n",
        "        ret, frame = video.read()\n",
        "\n",
        "        if not ret:\n",
        "            break\n",
        "\n",
        "        # กรณีที่ mediapipe ไม่สามารถหา landmark ได้ detectPose จะเป็น Nonetype\n",
        "        try:\n",
        "            output_image, norm_landmarks, norm_world_landmarks = detectPose(\n",
        "                frame)\n",
        "        except:\n",
        "            continue\n",
        "\n",
        "        output_image = ps.putBText(output_image, \"Frame: {}\".format(count),\n",
        "                                   text_offset_x=50, text_offset_y=50, vspace=10, hspace=10,\n",
        "                                   font_scale=1, background_RGB=(0, 0, 0), text_RGB=(255, 250, 250))\n",
        "\n",
        "        all_frame.append(output_image)\n",
        "        cam_ladk.append(formatJoint(norm_landmarks))\n",
        "        world_ladk.append(formatJoint(norm_world_landmarks))\n",
        "\n",
        "        count += 1\n",
        "\n",
        "    video.release()\n",
        "    cv2.destroyAllWindows()\n",
        "    return np.array(cam_ladk), np.array(world_ladk), all_frame"
      ]
    },
    {
      "cell_type": "markdown",
      "metadata": {
        "id": "v_xNouYRD2TY"
      },
      "source": [
        "# Export files"
      ]
    },
    {
      "cell_type": "code",
      "execution_count": 144,
      "metadata": {
        "id": "UIG39vbb9XzZ"
      },
      "outputs": [],
      "source": [
        "def export_ladk(path_des: str):\n",
        "    \"\"\"\n",
        "    Input:\n",
        "        path_des = A path of folder that contains videos\n",
        "    \"\"\"\n",
        "    ladk_dir = f\"{desktop}{slash}landmarks_diff_angle\"\n",
        "    !rm -rf \"{ladk_dir}\n",
        "    !mkdir \"{ladk_dir}\"\n",
        "    vid_list = glob(path_des+'/**/*.mp4')+glob(path_des+'/**/*.MOV')\n",
        "\n",
        "    for vid in vid_list:\n",
        "        movement_name = vid.split(slash)[-2]\n",
        "        vid_name = vid.split(slash)[-1].replace('.mp4','').replace('.MOV','')\n",
        "\n",
        "        if not os.path.isdir(f\"{ladk_dir}/{movement_name}\"):\n",
        "            !mkdir \"{ladk_dir}{slash}{movement_name}\"\n",
        "\n",
        "        !mkdir \"{ladk_dir}{slash}{movement_name}{slash}{vid_name}\"\n",
        "\n",
        "        cam_ladk, world_ladk, all_frame = landmark_detection(vid)\n",
        "\n",
        "        dir = f'{ladk_dir}{slash}{movement_name}{slash}{vid_name}'\n",
        "        with open(f\"{dir}{slash}cam_{vid_name}\", \"wb\") as fp:\n",
        "            np.save(fp, cam_ladk)\n",
        "        with open(f\"{dir}{slash}world_{vid_name}\", \"wb\") as fp:\n",
        "            np.save(fp, world_ladk)\n",
        "        with open(f\"{dir}{slash}all_frame_{vid_name}\", \"wb\") as fp:\n",
        "            pickle.dump(all_frame, fp)\n",
        "\n",
        "    # if os.path.isdir(\"{}/landmarks\".format(path_des)):\n",
        "    #     !rm -rf \"{path_des}/landmarks\"\n",
        "\n",
        "    # !rsync -a -q \"/content/landmarks\" \"{path_des}\""
      ]
    },
    {
      "cell_type": "code",
      "execution_count": 145,
      "metadata": {
        "id": "QLbwiZY-7Td1"
      },
      "outputs": [],
      "source": [
        "# export_ladk(friends_video)"
      ]
    },
    {
      "cell_type": "code",
      "execution_count": 146,
      "metadata": {
        "id": "QyAWOgdcxS3V"
      },
      "outputs": [],
      "source": [
        "# export_ladk(diff_angle)"
      ]
    },
    {
      "cell_type": "markdown",
      "metadata": {
        "id": "bKY4x4YaD4Vo"
      },
      "source": [
        "# Import files"
      ]
    },
    {
      "cell_type": "code",
      "execution_count": 147,
      "metadata": {
        "id": "VhgH6fJaDKy-"
      },
      "outputs": [],
      "source": [
        "def import_file(path: str):\n",
        "    \"\"\"\n",
        "    Input:\n",
        "        path = path of video landmark\n",
        "\n",
        "    Output:\n",
        "        cam_ladk = numpy array that contain camera coordinate of all keypoint in every frame of the video\n",
        "        world_ladk = numpy array that contain world coordinate of all keypoint in every frame of the video\n",
        "        all_frame = list that contain all skeletal frame in the video\n",
        "    \"\"\"\n",
        "\n",
        "    vid_name = path.split(slash)[-1]\n",
        "    with open('{}{}cam_{}'.format(path, slash, vid_name), 'rb') as f:\n",
        "        cam_ladk = np.load(f, allow_pickle=True)\n",
        "    with open('{}{}world_{}'.format(path, slash, vid_name), 'rb') as f:\n",
        "        world_ladk = np.load(f, allow_pickle=True)\n",
        "    with open(\"{}{}all_frame_{}\".format(path, slash, vid_name), \"rb\") as fp:\n",
        "        all_frame = pickle.load(fp)\n",
        "\n",
        "    return cam_ladk, world_ladk, all_frame"
      ]
    },
    {
      "cell_type": "code",
      "execution_count": 148,
      "metadata": {
        "id": "3VwgUU0aGeSx"
      },
      "outputs": [],
      "source": [
        "cam_ladk_test, world_ladk_test, all_frame_test = import_file(friends_video + \"{}landmarks{}เตะเฉียงหน้า{}เตะเฉียงหน้า\".format(slash, slash, slash))\n",
        "cam_ladk_test2, world_ladk_test2, all_frame_test2 = import_file(friends_video + \"{}landmarks{}เตะเฉียงหน้า{}เตะเฉียงหน้า_2\".format(slash, slash, slash))"
      ]
    },
    {
      "cell_type": "markdown",
      "metadata": {
        "id": "7rnxPgR2jemf"
      },
      "source": [
        "# Import weight"
      ]
    },
    {
      "cell_type": "code",
      "execution_count": 149,
      "metadata": {
        "id": "eLbodxovjgfI"
      },
      "outputs": [],
      "source": [
        "def gen_weight_csv(similarity_function):\n",
        "\n",
        "    if \"angle\" in similarity_function.__name__.lower():\n",
        "\n",
        "        cols = ['r_wrist', 'r_elbow', 'r_shoulder', 'r_hip', 'r_knee', 'r_ankle',\n",
        "                'l_wrist', 'l_elbow', 'l_shoulder', 'l_hip', 'l_knee', 'l_ankle']\n",
        "\n",
        "    elif \"cosine\" in similarity_function.__name__.lower():\n",
        "\n",
        "        cols = ['R_findex_ankle', 'R_ankle_knee', 'R_knee_hip', 'R_hip_shoulder', 'R_index_wrist', 'R_wrist_elbow', 'R_elbow_shoulder',\n",
        "                'L_findex_ankle', 'L_ankle_knee', 'L_knee_hip', 'L_hip_shoulder', 'L_index_wrist', 'L_wrist_elbow', 'L_elbow_shoulder',\n",
        "                'lshoulder_rshoulder', 'lhip_rhip']\n",
        "    weight_dict = dict.fromkeys(cols, 1)\n",
        "\n",
        "    path = 'C:\\\\Users\\\\Gear\\Desktop\\\\resource\\\\weight_config_{}.csv'\n",
        "\n",
        "    if in_colab():\n",
        "        path = 'weight_config_{}.csv'\n",
        "\n",
        "    pd.DataFrame(weight_dict, index=[0]).to_csv(\n",
        "        path.format(similarity_function.__name__.lower()))"
      ]
    },
    {
      "cell_type": "code",
      "execution_count": 150,
      "metadata": {
        "id": "dmfv9tT0jq4V"
      },
      "outputs": [],
      "source": [
        "def import_weight(weight_csv: str, vid_name: str):\n",
        "    df = pd.read_csv(weight_csv, encoding='utf-8')\n",
        "    return df[df['Name'] == vid_name].to_numpy()[0][1:]"
      ]
    },
    {
      "cell_type": "code",
      "execution_count": 151,
      "metadata": {
        "id": "7DfktS8ljzqa"
      },
      "outputs": [],
      "source": [
        "weight_angle = import_weight(resource + '{}weight_config_angle_list.csv'.format(slash), 'default')\n",
        "weight_cosine = import_weight(resource + '{}weight_config_cosine_list.csv'.format(slash), 'default')"
      ]
    },
    {
      "cell_type": "code",
      "execution_count": 152,
      "metadata": {
        "colab": {
          "base_uri": "https://localhost:8080/"
        },
        "id": "2sY4z8tgfPFa",
        "outputId": "e4d90995-6766-432c-f920-3901356f715c"
      },
      "outputs": [
        {
          "output_type": "execute_result",
          "data": {
            "text/plain": [
              "array([1, 1, 1, 1, 1, 1, 1, 1, 1, 1, 1, 1], dtype=object)"
            ]
          },
          "metadata": {},
          "execution_count": 152
        }
      ],
      "source": [
        "weight_angle"
      ]
    },
    {
      "cell_type": "code",
      "execution_count": 153,
      "metadata": {
        "colab": {
          "base_uri": "https://localhost:8080/"
        },
        "id": "LH-mqd1xTwGc",
        "outputId": "d4f846e7-edb2-40cd-e1bc-277476e09d06"
      },
      "outputs": [
        {
          "output_type": "execute_result",
          "data": {
            "text/plain": [
              "array([2, 2, 2, 2, 1, 1, 1, 1, 1, 1, 2, 1, 1, 1, 2, 2], dtype=object)"
            ]
          },
          "metadata": {},
          "execution_count": 153
        }
      ],
      "source": [
        "import_weight(resource + '{}weight_config_cosine_list.csv'.format(slash), 'เข่าตรงหลัง')"
      ]
    },
    {
      "cell_type": "markdown",
      "metadata": {
        "id": "4HixSITnD-Zy"
      },
      "source": [
        "# Comparison methods"
      ]
    },
    {
      "cell_type": "markdown",
      "metadata": {
        "id": "-i-YrmtmB7Yi"
      },
      "source": [
        "## Mapping score function"
      ]
    },
    {
      "cell_type": "code",
      "execution_count": 154,
      "metadata": {
        "colab": {
          "base_uri": "https://localhost:8080/",
          "height": 591
        },
        "id": "wT3ACDqOtyPc",
        "outputId": "56522e3f-4657-49ca-cbd0-9e7570c5d70c"
      },
      "outputs": [
        {
          "output_type": "stream",
          "name": "stderr",
          "text": [
            "<ipython-input-154-d38f3ff8c76c>:11: RuntimeWarning: divide by zero encountered in divide\n",
            "  y = np.where((x >= 0) & (x <= 1), 1/(1+(x/(1-x))**-2), x)\n",
            "<ipython-input-154-d38f3ff8c76c>:11: RuntimeWarning: divide by zero encountered in power\n",
            "  y = np.where((x >= 0) & (x <= 1), 1/(1+(x/(1-x))**-2), x)\n"
          ]
        },
        {
          "output_type": "display_data",
          "data": {
            "text/plain": [
              "<Figure size 600x600 with 1 Axes>"
            ],
            "image/png": "[encoded data removed]"
          },
          "metadata": {}
        }
      ],
      "source": [
        "import numpy as np\n",
        "import matplotlib.pyplot as plt\n",
        "\n",
        "x = np.linspace(0, 1, 100)\n",
        "\n",
        "# scaling here\n",
        "# y = np.sign(x) * ((np.abs(x)) ** (3*1.4)) # formula = x^3z\n",
        "# y = np.where(x>=0, np.where(x >= 0.5, np.cbrt(x), 5.65*x**3), np.cbrt(x))\n",
        "# y = x**3\n",
        "# y = np.cbrt(x)\n",
        "y = np.where((x >= 0) & (x <= 1), 1/(1+(x/(1-x))**-2), x)\n",
        "\n",
        "plt.figure(figsize=(6, 6))\n",
        "# for i,j in zip(x,y):\n",
        "#     print(i,j)\n",
        "#     plt.annotate('({:.2f},{:.2f})'.format(i,j),xy=(i,j))\n",
        "plt.plot(x, y)\n",
        "plt.grid()\n",
        "plt.show()"
      ]
    },
    {
      "cell_type": "markdown",
      "metadata": {
        "id": "eRwexVTfFCeC"
      },
      "source": [
        "## Angle"
      ]
    },
    {
      "cell_type": "markdown",
      "metadata": {
        "id": "YV3ehib4FGtJ"
      },
      "source": [
        "### Extract function"
      ]
    },
    {
      "cell_type": "code",
      "execution_count": 155,
      "metadata": {
        "id": "jugpMNqMTbkK"
      },
      "outputs": [],
      "source": [
        "def cal_norm_vec(point1: np.array, point2: np.array):\n",
        "\n",
        "    vec = point2-point1\n",
        "    vec_mag = np.linalg.norm(vec, axis=1)\n",
        "    vec_norm = np.array(list(map((lambda x, y: x/y), vec, vec_mag)))\n",
        "\n",
        "    return vec_norm"
      ]
    },
    {
      "cell_type": "code",
      "execution_count": 156,
      "metadata": {
        "id": "kUzybxODGR9y"
      },
      "outputs": [],
      "source": [
        "def cal_local_angle(point1: np.array, point2: np.array, point3: np.array):\n",
        "\n",
        "    dot_result = np.sum(cal_norm_vec(point1, point2) *\n",
        "                        cal_norm_vec(point3, point2), axis=1)\n",
        "    angle = np.rad2deg(np.arccos(dot_result))\n",
        "\n",
        "    return angle"
      ]
    },
    {
      "cell_type": "code",
      "execution_count": 157,
      "metadata": {
        "id": "lR9DNP_rGP7L"
      },
      "outputs": [],
      "source": [
        "def find_angle(world_ladk_vid: np.array):\n",
        "\n",
        "    r_wrist = cal_local_angle(\n",
        "        world_ladk_vid[:, 20], world_ladk_vid[:, 16], world_ladk_vid[:, 14])\n",
        "    r_elbow = cal_local_angle(\n",
        "        world_ladk_vid[:, 16], world_ladk_vid[:, 14], world_ladk_vid[:, 12])\n",
        "    r_shoulder = cal_local_angle(\n",
        "        world_ladk_vid[:, 14], world_ladk_vid[:, 12], world_ladk_vid[:, 24])\n",
        "    r_hip = cal_local_angle(\n",
        "        world_ladk_vid[:, 12], world_ladk_vid[:, 24], world_ladk_vid[:, 26])\n",
        "    r_knee = cal_local_angle(\n",
        "        world_ladk_vid[:, 24], world_ladk_vid[:, 26], world_ladk_vid[:, 28])\n",
        "    r_ankle = cal_local_angle(\n",
        "        world_ladk_vid[:, 26], world_ladk_vid[:, 28], world_ladk_vid[:, 32])\n",
        "\n",
        "    l_wrist = cal_local_angle(\n",
        "        world_ladk_vid[:, 19], world_ladk_vid[:, 15], world_ladk_vid[:, 13])\n",
        "    l_elbow = cal_local_angle(\n",
        "        world_ladk_vid[:, 15], world_ladk_vid[:, 13], world_ladk_vid[:, 11])\n",
        "    l_shoulder = cal_local_angle(\n",
        "        world_ladk_vid[:, 13], world_ladk_vid[:, 11], world_ladk_vid[:, 23])\n",
        "    l_hip = cal_local_angle(\n",
        "        world_ladk_vid[:, 11], world_ladk_vid[:, 23], world_ladk_vid[:, 25])\n",
        "    l_knee = cal_local_angle(\n",
        "        world_ladk_vid[:, 23], world_ladk_vid[:, 25], world_ladk_vid[:, 27])\n",
        "    l_ankle = cal_local_angle(\n",
        "        world_ladk_vid[:, 25], world_ladk_vid[:, 27], world_ladk_vid[:, 31])\n",
        "\n",
        "    return np.array([r_wrist, r_elbow, r_shoulder, r_hip, r_knee, r_ankle,\n",
        "                    l_wrist, l_elbow, l_shoulder, l_hip, l_knee, l_ankle]).T"
      ]
    },
    {
      "cell_type": "code",
      "execution_count": 226,
      "metadata": {
        "id": "TRE_SVkiegCz"
      },
      "outputs": [],
      "source": [
        "angle_vid1 = find_angle(world_ladk_test)"
      ]
    },
    {
      "cell_type": "code",
      "execution_count": 159,
      "metadata": {
        "id": "VByryTPYjOsq"
      },
      "outputs": [],
      "source": [
        "angle_vid2 = find_angle(world_ladk_test2)"
      ]
    },
    {
      "cell_type": "markdown",
      "metadata": {
        "id": "nhaYkQB4iZi4"
      },
      "source": [
        "### Similarity"
      ]
    },
    {
      "cell_type": "code",
      "execution_count": 160,
      "metadata": {
        "id": "vsJLXu5ziZNZ"
      },
      "outputs": [],
      "source": [
        "def angle_similarity(ang1: np.array, ang2: np.array, weight: np.array, max_angle: int, expo: bool):\n",
        "    \"\"\"\n",
        "    คำนวณความเหมือนกันของมุมในแต่ละข้อพับระหว่าง 2 วิดิโอ (0 - max_angle)\n",
        "\n",
        "    input:\n",
        "        ang1 : มุมข้อพับทั้ง 12 มุมของวิดิโอที่ 1 ได้จาก find_angle\n",
        "        ang2 : มุมข้อพับทั้ง 12 มุมของวิดิโอที่ 2 ได้จาก find_angle\n",
        "        weight : ค่าถ่วงน้ำหนัก ที่ได้จากฟังก์ชัน gen_weight\n",
        "        max_angle : ค่าที่ใช้ในการ normalize แต่ละมุมข้อพับ\n",
        "\n",
        "    output:\n",
        "        numpy array ความเหมือนของมุมข้อพับ 12 มุมที่คูณกับค่าถ่วงน้ำหนักแล้ว มีช่วงตั้งแต่ 0 - 1\n",
        "    \"\"\"\n",
        "\n",
        "    joint_diff_norm = (max_angle-np.abs(ang1 - ang2)) / max_angle\n",
        "\n",
        "    if not expo:\n",
        "        return joint_diff_norm * weight\n",
        "    else:\n",
        "        joint_diff_expo = np.where((joint_diff_norm >= 0) & (\n",
        "            joint_diff_norm <= 1), 1/(1+(joint_diff_norm/(1-joint_diff_norm))**-2), joint_diff_norm)\n",
        "        # each angle has range between 0 and 1 (default weight)\n",
        "        return joint_diff_expo * weight"
      ]
    },
    {
      "cell_type": "markdown",
      "metadata": {
        "id": "3JL-KMRI853S"
      },
      "source": [
        "###Difference"
      ]
    },
    {
      "cell_type": "code",
      "execution_count": 161,
      "metadata": {
        "id": "oKp9bT6vSPFd"
      },
      "outputs": [],
      "source": [
        "def angle_difference(ang1: np.array, ang2: np.array, weight: np.array, max_angle: int, expo: bool):\n",
        "    \"\"\"\n",
        "    คำนวณความต่างของมุมในแต่ละข้อพับระหว่าง 2 วิดิโอ (0 - max_angle)\n",
        "\n",
        "    input:\n",
        "        ang1 : มุมข้อพับทั้ง 12 มุมของวิดิโอที่ 1 ได้จาก find_angle\n",
        "        ang2 : มุมข้อพับทั้ง 12 มุมของวิดิโอที่ 2 ได้จาก find_angle\n",
        "        weight : ค่าถ่วงน้ำหนัก ที่ได้จากฟังก์ชัน gen_weight\n",
        "        max_angle : ค่าที่ใช้ในการ normalize แต่ละมุมข้อพับ\n",
        "\n",
        "    output:\n",
        "        numpy array ความต่างของมุมข้อพับ 12 มุมที่คูณกับค่าถ่วงน้ำหนักแล้ว มีช่วงตั้งแต่ 0 - 1\n",
        "    \"\"\"\n",
        "\n",
        "    joint_diff_norm = (np.abs(ang1 - ang2) / max_angle)\n",
        "\n",
        "    if not expo:\n",
        "        return joint_diff_norm * weight\n",
        "    else:\n",
        "        joint_diff_expo = np.where((joint_diff_norm >= 0) & (\n",
        "            joint_diff_norm <= 1), 1/(1+(joint_diff_norm/(1-joint_diff_norm))**-2), joint_diff_norm)\n",
        "        # each angle has range between 0 and 1 (default weight)\n",
        "        return joint_diff_expo * weight"
      ]
    },
    {
      "cell_type": "markdown",
      "metadata": {
        "id": "x1ID5s1FEBN6"
      },
      "source": [
        "## Cosine"
      ]
    },
    {
      "cell_type": "markdown",
      "metadata": {
        "id": "3qFfosifSej_"
      },
      "source": [
        "### Extract function"
      ]
    },
    {
      "cell_type": "code",
      "execution_count": 162,
      "metadata": {
        "id": "ypgbW6zeSeVq"
      },
      "outputs": [],
      "source": [
        "def find_limb(world_ladk_vid: np.array):\n",
        "    \"\"\"\n",
        "    Output:\n",
        "        result[limb][frame][coordinate]\n",
        "    \"\"\"\n",
        "\n",
        "    R_findex_ankle = world_ladk_vid[:, 32] - world_ladk_vid[:, 28]\n",
        "    R_ankle_knee = world_ladk_vid[:, 28] - world_ladk_vid[:, 26]\n",
        "    R_knee_hip = world_ladk_vid[:, 26] - world_ladk_vid[:, 24]\n",
        "    R_hip_shoulder = world_ladk_vid[:, 24] - world_ladk_vid[:, 12]\n",
        "    R_index_wrist = world_ladk_vid[:, 20] - world_ladk_vid[:, 16]\n",
        "    R_wrist_elbow = world_ladk_vid[:, 16] - world_ladk_vid[:, 14]\n",
        "    R_elbow_shoulder = world_ladk_vid[:, 14] - world_ladk_vid[:, 12]\n",
        "\n",
        "    L_findex_ankle = world_ladk_vid[:, 31] - world_ladk_vid[:, 27]\n",
        "    L_ankle_knee = world_ladk_vid[:, 27] - world_ladk_vid[:, 25]\n",
        "    L_knee_hip = world_ladk_vid[:, 25] - world_ladk_vid[:, 23]\n",
        "    L_hip_shoulder = world_ladk_vid[:, 23] - world_ladk_vid[:, 11]\n",
        "    L_index_wrist = world_ladk_vid[:, 19] - world_ladk_vid[:, 15]\n",
        "    L_wrist_elbow = world_ladk_vid[:, 15] - world_ladk_vid[:, 13]\n",
        "    L_elbow_shoulder = world_ladk_vid[:, 13] - world_ladk_vid[:, 11]\n",
        "\n",
        "    lshoulder_rshoulder = world_ladk_vid[:, 11] - world_ladk_vid[:, 12]\n",
        "    lhip_rhip = world_ladk_vid[:, 23] - world_ladk_vid[:, 24]\n",
        "\n",
        "    return np.array([R_findex_ankle, R_ankle_knee, R_knee_hip, R_hip_shoulder, R_index_wrist, R_wrist_elbow, R_elbow_shoulder,\n",
        "                     L_findex_ankle, L_ankle_knee, L_knee_hip, L_hip_shoulder, L_index_wrist, L_wrist_elbow, L_elbow_shoulder,\n",
        "                     lshoulder_rshoulder, lhip_rhip]).transpose(1, 0, 2)"
      ]
    },
    {
      "cell_type": "code",
      "execution_count": 163,
      "metadata": {
        "id": "A6_ZvLesTHeN"
      },
      "outputs": [],
      "source": [
        "limb_vid1 = find_limb(world_ladk_test)"
      ]
    },
    {
      "cell_type": "code",
      "execution_count": 164,
      "metadata": {
        "id": "yw5FCAhQXb-G"
      },
      "outputs": [],
      "source": [
        "limb_vid2 = find_limb(world_ladk_test2)"
      ]
    },
    {
      "cell_type": "markdown",
      "metadata": {
        "id": "3EosB8GBXkeG"
      },
      "source": [
        "### Similarity"
      ]
    },
    {
      "cell_type": "code",
      "execution_count": 165,
      "metadata": {
        "id": "igBgrCqmT9O8"
      },
      "outputs": [],
      "source": [
        "def cosine_similarity(vec1: np.array, vec2: np.array, weight: np.array, min_cosine_sim: int, expo: bool):\n",
        "    \"\"\"\n",
        "    คำนวณความเหมือนด้วย cosine similarity (min_cosine_sim - 1)\n",
        "    K(X, Y) = X dot Y / (||X||*||Y||)\n",
        "\n",
        "    input:\n",
        "        vec1: numpy array ที่ข้างในมีเวกเตอร์ท่อนแขนท่อนขา 16 ท่อนของวิดิโอที่ 1 ได้จากฟังก์ชัน find_limb\n",
        "        vec2: numpy array ที่ข้างในมีเวกเตอร์ท่อนแขนท่อนขา 16 ท่อนของวิดิโอที่ 2 ได้จากฟังก์ชัน find_limb\n",
        "        weight : ค่าถ่วงน้ำหนัก ที่ได้จากฟังก์ชัน gen_weight\n",
        "        min_cosine_sim: ค่าที่ใช้การ normalize แต่ละท่อนแขนท่อนขา รับเข้ามาเป็นองศา\n",
        "\n",
        "    output:\n",
        "         numpy array ความเหมือนของเวกเตอร์ 16 ท่อนที่คูณกับค่าถ่วงน้ำหนักแล้ว มีช่วงตั้งแต่ 0 - 1\n",
        "    \"\"\"\n",
        "    # 180 คือ -1, 90 คือ 0, 45 คือ sqrt(2)/2\n",
        "    min_cosine_sim = np.cos(np.radians(min_cosine_sim))\n",
        "\n",
        "    limb_diff_norm = (((np.sum(vec1*vec2, axis=1)/(np.linalg.norm(vec1, axis=1)\n",
        "                      * np.linalg.norm(vec2, axis=1)))-min_cosine_sim)/(1-min_cosine_sim))\n",
        "\n",
        "    if not expo:\n",
        "        return limb_diff_norm * weight\n",
        "    else:\n",
        "        limb_diff_expo = np.where((limb_diff_norm >= 0) & (\n",
        "            limb_diff_norm <= 1), 1/(1+(limb_diff_norm/(1-limb_diff_norm))**-2), limb_diff_norm)\n",
        "        # each limb has range between 0 and 1 (default weight)\n",
        "        return limb_diff_expo * weight"
      ]
    },
    {
      "cell_type": "markdown",
      "metadata": {
        "id": "9tJr-aSvZTwl"
      },
      "source": [
        "### Difference"
      ]
    },
    {
      "cell_type": "code",
      "execution_count": 166,
      "metadata": {
        "id": "vBIfHLRMZFe_"
      },
      "outputs": [],
      "source": [
        "def cosine_difference(vec1: np.array, vec2: np.array, weight: np.array, max_cosine_diff: int, expo: bool):\n",
        "    \"\"\"\n",
        "    คำนวณความต่างด้วย 1 - cosine similarity (0 - max_cosine_diff)\n",
        "\n",
        "    input:\n",
        "        vec1: numpy array ที่ข้างในมีเวกเตอร์ท่อนแขนท่อนขา 16 ท่อนของวิดิโอที่ 1 ได้จากฟังก์ชัน find_limb\n",
        "        vec2: numpy array ที่ข้างในมีเวกเตอร์ท่อนแขนท่อนขา 16 ท่อนของวิดิโอที่ 2 ได้จากฟังก์ชัน find_limb\n",
        "        max_cosine_diff: ค่าที่ใช้การ normalize แต่ละท่อนแขนท่อนขา\n",
        "        weight : ค่าถ่วงน้ำหนัก ที่ได้จากฟังก์ชัน gen_weight\n",
        "\n",
        "    output:\n",
        "        numpy array ความต่างของเวกเตอร์ 16 ท่อนที่คูณกับค่าถ่วงน้ำหนักแล้ว มีช่วงตั้งแต่ 0 - 1\n",
        "    \"\"\"\n",
        "\n",
        "    # 180 คือ -1, 90 คือ 0, 45 คือ sqrt(2)/2\n",
        "    max_cosine_diff = np.cos(np.radians(max_cosine_diff))\n",
        "\n",
        "    limb_diff_norm = (1 - (np.sum(vec1*vec2, axis=1)/(np.linalg.norm(vec1,\n",
        "                      axis=1)*np.linalg.norm(vec2, axis=1))))/(1-max_cosine_diff)\n",
        "\n",
        "    if not expo:\n",
        "        return limb_diff_norm * weight\n",
        "    else:\n",
        "        limb_diff_expo = np.where((limb_diff_norm >= 0) & (\n",
        "            limb_diff_norm <= 1), 1/(1+(limb_diff_norm/(1-limb_diff_norm))**-2), limb_diff_norm)\n",
        "        # each limb has range between 0 and 1 (default weight)\n",
        "        return limb_diff_expo * weight"
      ]
    },
    {
      "cell_type": "markdown",
      "metadata": {
        "id": "yIibTFM4dYM9"
      },
      "source": [
        "# Automatic weight"
      ]
    },
    {
      "cell_type": "code",
      "execution_count": 167,
      "metadata": {
        "id": "hadjFtu3dfHI"
      },
      "outputs": [],
      "source": [
        "def diff_move(extracted_ladk: np.array, windows: int, curr_frame: int, max_angle: int, method='aj'):\n",
        "\n",
        "    if method.lower() == 'aj':\n",
        "        if extracted_ladk.shape[1] == 12:\n",
        "            adj_diff = angle_difference(ang1=extracted_ladk[curr_frame],\n",
        "                                        ang2=extracted_ladk[curr_frame-1],\n",
        "                                        weight=np.ones(12),\n",
        "                                        max_angle=max_angle,\n",
        "                                        expo=False)\n",
        "\n",
        "        if extracted_ladk.shape[1] == 16:\n",
        "            adj_diff = cosine_difference(vec1=extracted_ladk[curr_frame],\n",
        "                                         vec2=extracted_ladk[curr_frame-1],\n",
        "                                         weight=np.ones(16),\n",
        "                                         max_cosine_diff=max_angle,\n",
        "                                         expo=False)\n",
        "\n",
        "        return adj_diff\n",
        "\n",
        "    elif method.lower() == 'me':\n",
        "        if extracted_ladk.shape[1] == 12:\n",
        "            prev_diff = np.abs(\n",
        "                extracted_ladk[curr_frame] - extracted_ladk[curr_frame-windows:curr_frame])/max_angle\n",
        "            next_diff = np.abs(\n",
        "                extracted_ladk[curr_frame] - extracted_ladk[curr_frame+1:curr_frame+windows+1])/max_angle\n",
        "\n",
        "            total_diff = np.append(prev_diff, next_diff, axis=0)\n",
        "            mean_total_diff = np.mean(total_diff, axis=0)\n",
        "\n",
        "        if extracted_ladk.shape[1] == 16:\n",
        "            max_cosine_diff = np.cos(np.radians(max_angle))\n",
        "            prev_diff = (1 - (np.sum(extracted_ladk[curr_frame][np.newaxis, :] * extracted_ladk[curr_frame-windows:curr_frame], axis=2) / (np.linalg.norm(\n",
        "                extracted_ladk[curr_frame][np.newaxis, :], axis=2) * np.linalg.norm(extracted_ladk[curr_frame-windows:curr_frame], axis=2))))/(1-max_cosine_diff)\n",
        "            next_diff = (1 - (np.sum(extracted_ladk[curr_frame][np.newaxis, :] * extracted_ladk[curr_frame+1:curr_frame+windows+1], axis=2) / (np.linalg.norm(\n",
        "                extracted_ladk[curr_frame][np.newaxis, :], axis=2) * np.linalg.norm(extracted_ladk[curr_frame+1:curr_frame+windows+1], axis=2))))/(1-max_cosine_diff)\n",
        "\n",
        "            mean_total_diff_temp = np.stack((prev_diff.T, next_diff.T), axis=1)\n",
        "\n",
        "            mean_total_diff = np.mean(\n",
        "                np.mean(mean_total_diff_temp, axis=1), axis=1)\n",
        "\n",
        "        return mean_total_diff+1"
      ]
    },
    {
      "cell_type": "code",
      "execution_count": 168,
      "metadata": {
        "id": "cUvZvTlbS2qH"
      },
      "outputs": [],
      "source": [
        "def MA_W(extracted_ladk: np.array, windows: int, max_angle=180, method='aj'):\n",
        "\n",
        "    frame = extracted_ladk.shape[0]\n",
        "\n",
        "    if (windows+windows) > frame:\n",
        "        frame_diff = (windows+windows) - frame\n",
        "        extracted_ladk = np.insert(\n",
        "            extracted_ladk, 0, [extracted_ladk[0]]*(math.ceil(frame_diff/2)+1), axis=0)\n",
        "        extracted_ladk = np.insert(\n",
        "            extracted_ladk, -1, [extracted_ladk[-1]]*(math.ceil(frame_diff/2)+1), axis=0)\n",
        "        frame = extracted_ladk.shape[0]\n",
        "\n",
        "    # adjacent frame diff\n",
        "    if method.lower() == 'aj':\n",
        "\n",
        "        all_adj_diff = []\n",
        "        for curr_frame in range(1, frame):\n",
        "            all_adj_diff.append(diff_move(extracted_ladk=extracted_ladk,\n",
        "                                          windows=windows,\n",
        "                                          curr_frame=curr_frame,\n",
        "                                          max_angle=max_angle,\n",
        "                                          method=method.lower()))\n",
        "\n",
        "        all_adj_diff.append(all_adj_diff[-1])\n",
        "        all_adj_diff = np.array(all_adj_diff)\n",
        "\n",
        "        # sliding window\n",
        "        all_weight = []\n",
        "        for curr_frame in range(windows, frame-windows+1):\n",
        "            forward_dist = np.sum(\n",
        "                all_adj_diff[curr_frame:curr_frame+windows+1], axis=0)\n",
        "            backward_dist = np.sum(\n",
        "                all_adj_diff[curr_frame-windows:curr_frame], axis=0)\n",
        "            total_dist = (forward_dist+backward_dist)\n",
        "            all_weight.append(total_dist)\n",
        "\n",
        "        all_weight = np.array(all_weight)\n",
        "        all_weight = (all_weight/windows)+1\n",
        "\n",
        "    # diff between f frame and frames in window\n",
        "    elif method.lower() == 'me':\n",
        "\n",
        "        # sliding window\n",
        "        all_weight = []\n",
        "        for curr_frame in range(windows, frame-windows+1):\n",
        "\n",
        "            weight_by_frame = diff_move(extracted_ladk=extracted_ladk,\n",
        "                                        windows=windows,\n",
        "                                        curr_frame=curr_frame,\n",
        "                                        max_angle=max_angle,\n",
        "                                        method=method.lower())\n",
        "            all_weight.append(weight_by_frame)\n",
        "\n",
        "        all_weight = np.array(all_weight)\n",
        "\n",
        "    # add first n frame to all_weight\n",
        "    all_weight = np.insert(all_weight, 0, [all_weight[0]]*windows, axis=0)\n",
        "\n",
        "    # add last n frame to all_weight\n",
        "    all_weight = np.insert(all_weight, -1, [all_weight[-1]]*windows, axis=0)\n",
        "\n",
        "    return all_weight"
      ]
    },
    {
      "cell_type": "code",
      "execution_count": 169,
      "metadata": {
        "id": "yJX-EOoqif3O"
      },
      "outputs": [],
      "source": [
        "all_weight = MA_W(limb_vid1, 30, 45, 'aj')"
      ]
    },
    {
      "cell_type": "markdown",
      "metadata": {
        "id": "f6iRkWbVZx_b"
      },
      "source": [
        "# DTW"
      ]
    },
    {
      "cell_type": "markdown",
      "metadata": {
        "id": "-lEhyAhWgfRk"
      },
      "source": [
        "กรณีที่วิดิโอที่ 1 สั้นกว่าวิดิโอที่ 2 อาจ error ได้"
      ]
    },
    {
      "cell_type": "code",
      "execution_count": 170,
      "metadata": {
        "id": "BRIntmGJUDY7"
      },
      "outputs": [],
      "source": [
        "def dm(extracted_ladk_vid1: np.array, extracted_ladk_vid2: np.array, sim_diff_function,\n",
        "       weight, norm_value: int, windows: int, method='aj', expo=False):\n",
        "\n",
        "    N = extracted_ladk_vid1.shape[0]\n",
        "    M = extracted_ladk_vid2.shape[0]\n",
        "\n",
        "    dist_mat = np.zeros((N, M))\n",
        "    dist_ladk_mat = np.zeros((N, M), dtype=object)\n",
        "\n",
        "    if isinstance(weight, str):\n",
        "        if weight.lower() == 'auto':\n",
        "            weight = MA_W(extracted_ladk_vid1, windows, norm_value, method)\n",
        "    else:\n",
        "        weight = [weight]*max(N, M)\n",
        "\n",
        "    for i in range(N):\n",
        "        for j in range(M):\n",
        "\n",
        "            dist_ladk_mat[i, j] = sim_diff_function(\n",
        "                extracted_ladk_vid1[i], extracted_ladk_vid2[j], weight[i], norm_value, expo)\n",
        "            dist_mat[i, j] = np.sum(dist_ladk_mat[i, j]) / \\\n",
        "                np.sum(weight[i])  # 0-1 (Default weight)\n",
        "\n",
        "    return dist_ladk_mat, dist_mat"
      ]
    },
    {
      "cell_type": "code",
      "execution_count": 171,
      "metadata": {
        "id": "0Uuh52t3zEjH"
      },
      "outputs": [],
      "source": [
        "dist_ladk_mat_test, dist_mat_test = dm(limb_vid1, limb_vid2, cosine_similarity, weight_cosine, 180, 25)"
      ]
    },
    {
      "cell_type": "code",
      "execution_count": 172,
      "metadata": {
        "id": "gMaRiVmlXiJG"
      },
      "outputs": [],
      "source": [
        "def dp(dist_mat: np.array, mode: str):\n",
        "    \"\"\"\n",
        "    ขวาล่าง-ซ้ายบน (cost)\n",
        "    Find minimum-cost path through matrix `dist_mat` using dynamic programming.\n",
        "\n",
        "    The cost of a path is defined as the sum of the matrix entries on that\n",
        "    path. See the following for details of the algorithm:\n",
        "\n",
        "    - http://en.wikipedia.org/wiki/Dynamic_time_warping\n",
        "    - https://www.ee.columbia.edu/~dpwe/resources/matlab/dtw/dp.m\n",
        "\n",
        "    The notation in the first reference was followed, while Dan Ellis's code\n",
        "    (second reference) was used to check for correctness. Returns a list of\n",
        "    path indices and the cost matrix.\n",
        "    \"\"\"\n",
        "\n",
        "    N, M = dist_mat.shape\n",
        "\n",
        "    # Initialize the cost matrix\n",
        "    cost_mat = np.zeros((N, M))\n",
        "    if 'difference' in mode:\n",
        "        cost_mat = np.insert(cost_mat, 0, np.inf, axis=1)\n",
        "        cost_mat = np.insert(cost_mat, 0, np.inf, axis=0)\n",
        "    elif 'similarity' in mode:\n",
        "        cost_mat = np.insert(cost_mat, 0, -np.inf, axis=1)\n",
        "        cost_mat = np.insert(cost_mat, 0, -np.inf, axis=0)\n",
        "    cost_mat[0, 0] = 0\n",
        "\n",
        "    # Fill the cost matrix while keeping traceback information\n",
        "    traceback_mat = np.zeros((N, M), dtype='uint8')\n",
        "    for i in range(N):\n",
        "        for j in range(M):\n",
        "            penalty = [\n",
        "                cost_mat[i, j],      # match (0)\n",
        "                cost_mat[i, j + 1],  # insertion (1)\n",
        "                cost_mat[i + 1, j]]  # deletion (2)\n",
        "            if 'difference' in mode:\n",
        "                i_penalty = np.argmin(penalty)\n",
        "            elif 'similarity' in mode:\n",
        "                i_penalty = np.argmax(penalty)\n",
        "            cost_mat[i + 1, j + 1] = dist_mat[i, j] + penalty[i_penalty]\n",
        "            traceback_mat[i, j] = i_penalty\n",
        "\n",
        "    # Traceback from bottom right\n",
        "    i = N - 1\n",
        "    j = M - 1\n",
        "    path = [(i, j)]\n",
        "    vert_hor = 0\n",
        "\n",
        "    while i > 0 or j > 0:\n",
        "        tb_type = traceback_mat[i, j]\n",
        "\n",
        "        if tb_type == 0:\n",
        "            # Match\n",
        "            i = i - 1\n",
        "            j = j - 1\n",
        "\n",
        "        elif tb_type == 1:\n",
        "            # Insertion\n",
        "            i = i - 1\n",
        "            vert_hor += 1\n",
        "\n",
        "        elif tb_type == 2:\n",
        "            # Deletion\n",
        "            j = j - 1\n",
        "            vert_hor += 1\n",
        "\n",
        "        path.append((i, j))\n",
        "\n",
        "    # Strip infinity edges from cost_mat before returning\n",
        "    cost_mat = cost_mat[1:, 1:]\n",
        "    cost_mat = cost_mat/len(path)\n",
        "\n",
        "    return path[::-1], cost_mat, vert_hor"
      ]
    },
    {
      "cell_type": "code",
      "execution_count": 173,
      "metadata": {
        "id": "c6LDRXVLaubn"
      },
      "outputs": [],
      "source": [
        "path_dp, cost_mat_dp, vert_hor_dp = dp(dist_mat_test, 'cosine_similarity')"
      ]
    },
    {
      "cell_type": "code",
      "execution_count": 174,
      "metadata": {
        "id": "ihpgGgrxtn6f"
      },
      "outputs": [],
      "source": [
        "def unique_path(path):\n",
        "    new_path = []\n",
        "    temp_i = None\n",
        "    temp_j = None\n",
        "    for i, j in path:\n",
        "        if (i == temp_i) or (j == temp_j):\n",
        "            continue\n",
        "        temp_i = i\n",
        "        temp_j = j\n",
        "        new_path.append((i, j))\n",
        "    return np.array(new_path)"
      ]
    },
    {
      "cell_type": "code",
      "execution_count": 175,
      "metadata": {
        "id": "OyhnzWHqYAGO"
      },
      "outputs": [],
      "source": [
        "def dtw(name_vid1: str, name_vid2: str, extracted_ladk_vid1: np.array, extracted_ladk_vid2: np.array, sim_diff_function,\n",
        "        path_finder, weight, norm_value=180, windows=50, thresh=False, MAW_method='aj', expo=False):\n",
        "\n",
        "    thresh_name=''\n",
        "    expo_name=''\n",
        "    keyframe_name=''\n",
        "\n",
        "    if 2 in set(weight):\n",
        "        weight_name = '-Weight'\n",
        "    else:\n",
        "        weight_name = '-Unweight'\n",
        "\n",
        "    if isinstance(weight, float):\n",
        "        weight_name = '-MAW'\n",
        "    else:\n",
        "        window = ''\n",
        "\n",
        "    if thresh:\n",
        "        thresh_name = '-thresh'\n",
        "\n",
        "    if expo:\n",
        "        expo_name = '-expo'\n",
        "\n",
        "    if MAW_method == 'me':\n",
        "        maw_met_name = '-my-method'\n",
        "    else:\n",
        "        maw_met_name = ''\n",
        "\n",
        "    dist_lndmk_mat, dist_mat = dm(extracted_ladk_vid1=extracted_ladk_vid1,\n",
        "                                  extracted_ladk_vid2=extracted_ladk_vid2,\n",
        "                                  sim_diff_function=sim_diff_function,\n",
        "                                  weight=weight,\n",
        "                                  norm_value=norm_value,\n",
        "                                  windows=windows,\n",
        "                                  method=MAW_method,\n",
        "                                  expo=expo)\n",
        "\n",
        "    path, cost_mat, vert_hor = path_finder(dist_mat=dist_mat,\n",
        "                                           mode=sim_diff_function.__name__)\n",
        "\n",
        "    row = np.array(path)[:, 0]\n",
        "    col = np.array(path)[:, 1]\n",
        "    dist_mat_path = dist_mat[row, col]\n",
        "\n",
        "    unique_row = unique_path(path)[:, 0]\n",
        "    unique_col = unique_path(path)[:, 1]\n",
        "    dist_mat_unique = dist_mat[unique_row, unique_col]\n",
        "\n",
        "    frames_count = dist_mat_unique.shape[0]\n",
        "\n",
        "    if 'difference' in sim_diff_function.__name__:\n",
        "        dist_mat_path = 1-dist_mat_path\n",
        "        dist_mat_unique = 1-dist_mat_unique\n",
        "\n",
        "    cost = np.sum(dist_mat_path)/len(path)\n",
        "    std_all = np.std(dist_mat_path, dtype=np.float32)\n",
        "    std_unique = np.std(dist_mat_unique, dtype=np.float32)\n",
        "    mean = np.mean(dist_mat_path, dtype=np.float32)\n",
        "\n",
        "    if thresh:\n",
        "        thresh = np.mean(dist_mat_path)-0.03\n",
        "        cost = np.sum(dist_mat_path[dist_mat_path > thresh])/len(path)\n",
        "\n",
        "    # df1 = pd.DataFrame({'Unique_frames':list(zip(unique_row, unique_col)), 'Sim_score':list(dist_mat_unique)})\n",
        "    # df1.to_csv(\"{}{}dtw_{}_{}_{}{}dtw_{}_{}_{}_{}{}{}{}{}{}{}.csv\".format(desktop+slash+'dtw', slash, name_vid1, name_vid2, sim_diff_function.__name__,\n",
        "    #                                                           slash, name_vid1, name_vid2, sim_diff_function.__name__, path_finder.__name__,\n",
        "    #                                                          weight_name,window,maw_met_name,expo_name,thresh_name,keyframe_name))\n",
        "\n",
        "    return None, None, path, dist_mat, dist_lndmk_mat, cost_mat, vert_hor, cost, [std_all, std_unique, mean, frames_count]"
      ]
    },
    {
      "cell_type": "code",
      "source": [
        "def dtw_2person(extracted_ladk_vid1: np.array, extracted_ladk_vid2: np.array, sim_diff_function,\n",
        "        path_finder, weight, norm_value=180, windows=50, thresh=False, MAW_method='aj', expo=False):\n",
        "\n",
        "    dist_lndmk_mat, dist_mat = dm(extracted_ladk_vid1=extracted_ladk_vid1,\n",
        "                                  extracted_ladk_vid2=extracted_ladk_vid2,\n",
        "                                  sim_diff_function=sim_diff_function,\n",
        "                                  weight=weight,\n",
        "                                  norm_value=norm_value,\n",
        "                                  windows=windows,\n",
        "                                  method=MAW_method,\n",
        "                                  expo=expo)\n",
        "\n",
        "    path, cost_mat, vert_hor = path_finder(dist_mat=dist_mat,\n",
        "                                           mode=sim_diff_function.__name__)\n",
        "\n",
        "    row = np.array(path)[:, 0]\n",
        "    col = np.array(path)[:, 1]\n",
        "    dist_mat_path = dist_mat[row, col]\n",
        "\n",
        "    unique_row = unique_path(path)[:, 0]\n",
        "    unique_col = unique_path(path)[:, 1]\n",
        "    dist_mat_unique = dist_mat[unique_row, unique_col]\n",
        "\n",
        "    frames_count = dist_mat_unique.shape[0]\n",
        "\n",
        "    if 'difference' in sim_diff_function.__name__:\n",
        "        dist_mat_path = 1-dist_mat_path\n",
        "        dist_mat_unique = 1-dist_mat_unique\n",
        "\n",
        "    cost = np.sum(dist_mat_path)/len(path)\n",
        "    std_all = np.std(dist_mat_path, dtype=np.float32)\n",
        "    std_unique = np.std(dist_mat_unique, dtype=np.float32)\n",
        "    mean = np.mean(dist_mat_path, dtype=np.float32)\n",
        "\n",
        "    if thresh:\n",
        "        thresh = np.mean(dist_mat_path)-0.03\n",
        "        cost = np.sum(dist_mat_path[dist_mat_path > thresh])/len(path)\n",
        "\n",
        "    return cost"
      ],
      "metadata": {
        "id": "7iqVRleGKI5C"
      },
      "execution_count": 176,
      "outputs": []
    },
    {
      "cell_type": "code",
      "execution_count": 177,
      "metadata": {
        "id": "F4-H01Mbqyb2",
        "colab": {
          "base_uri": "https://localhost:8080/"
        },
        "outputId": "d11ef4e0-9eb0-4504-ac8e-1332567ff634"
      },
      "outputs": [
        {
          "output_type": "stream",
          "name": "stdout",
          "text": [
            "mkdir: cannot create directory ‘/content/dtw’: File exists\n"
          ]
        }
      ],
      "source": [
        "!mkdir \"{desktop}{slash}dtw\""
      ]
    },
    {
      "cell_type": "code",
      "execution_count": 178,
      "metadata": {
        "id": "TehWyFdhbBLU"
      },
      "outputs": [],
      "source": [
        "# keyframes_list, student_kf, path_test, dist_mat_test, dist_lndmk_mat_test, cost_mat_test, vert_hor_test, cost_test, stats = dtw('vid1','vid2',limb_vid1, limb_vid2, cosine_similarity, dp, 'auto', 90, 60, True, 'aj')"
      ]
    },
    {
      "cell_type": "code",
      "execution_count": 179,
      "metadata": {
        "id": "J5jRlAzDzpes"
      },
      "outputs": [],
      "source": [
        "# keyframes_list, student_kf, path_test, dist_mat_test, dist_lndmk_mat_test, cost_mat_test, vert_hor_test, cost_test, stats = dtw('vid1', 'vid2', limb_vid1, limb_vid2, cosine_difference, dp, 'auto', 90, 60, False, 'aj')"
      ]
    },
    {
      "cell_type": "markdown",
      "metadata": {
        "id": "_zRrkcP1Z-0x"
      },
      "source": [
        "# Find keyframes"
      ]
    },
    {
      "cell_type": "code",
      "execution_count": 180,
      "metadata": {
        "id": "ms85YLTsr80r"
      },
      "outputs": [],
      "source": [
        "def video_to_img(path):\n",
        "    vid = cv2.VideoCapture(path)\n",
        "    vid_name = path.split(slash)[-1].replace('.mp4','')\n",
        "    !mkdir \"{desktop}{slash}img{slash}{vid_name}\"\n",
        "    count = 0\n",
        "    while vid.isOpened():\n",
        "\n",
        "        ret, frame = vid.read()\n",
        "\n",
        "        if not ret:\n",
        "            break\n",
        "\n",
        "        cv2.imwrite(\"{}{}img{}{}{}{}_{}.jpg\".format(desktop, slash, slash, vid_name, slash, vid_name,count), frame)\n",
        "\n",
        "        count += 1\n",
        "\n",
        "    vid.release()\n",
        "    cv2.destroyAllWindows()"
      ]
    },
    {
      "cell_type": "code",
      "execution_count": 181,
      "metadata": {
        "id": "oOtICvZItW_G"
      },
      "outputs": [],
      "source": [
        "# !mkdir '{desktop}{slash}img'\n",
        "# for p in glob('/content/drive/MyDrive/Resources/Video_เพื่อน/**/**.mp4'):\n",
        "#     video_to_img(p)"
      ]
    },
    {
      "cell_type": "code",
      "execution_count": 182,
      "metadata": {
        "id": "jxJDy9h8ldoM"
      },
      "outputs": [],
      "source": [
        "# !mkdir '{desktop}{slash}img'\n",
        "# for p in glob('/content/drive/MyDrive/Resources/Different camera angle/**/**.mp4'):\n",
        "#     video_to_img(p)"
      ]
    },
    {
      "cell_type": "code",
      "execution_count": 183,
      "metadata": {
        "id": "NG0M6G7ii3z7"
      },
      "outputs": [],
      "source": [
        "# !zip -r -q '/content/img.zip' '/content/img'\n",
        "# !mv '/content/img.zip' '/content/drive/MyDrive'"
      ]
    },
    {
      "cell_type": "markdown",
      "metadata": {
        "id": "PVEwuVwp3J1N"
      },
      "source": [
        "## Find matching keyframe"
      ]
    },
    {
      "cell_type": "code",
      "execution_count": 184,
      "metadata": {
        "id": "kvbon5KD9-k8"
      },
      "outputs": [],
      "source": [
        "# def match_kf(keyframe_list, dist_mat):\n",
        "#     student_kf = [0]\n",
        "\n",
        "#     for idx, kf in enumerate(keyframe_list):\n",
        "#         match_idx = (np.where(dist_mat[kf, student_kf[idx]:] >= (np.max(dist_mat[kf, student_kf[idx]:]))))[0][0]\n",
        "#         student_kf.append(student_kf[idx]+match_idx)\n",
        "#     student_kf.append(dist_mat.shape[1])\n",
        "\n",
        "#     keyframe_list.insert(0,0)\n",
        "#     keyframe_list.append(dist_mat.shape[0])\n",
        "#     return keyframe_list, student_kf"
      ]
    },
    {
      "cell_type": "code",
      "execution_count": 185,
      "metadata": {
        "id": "Gkem4TrA9-k8"
      },
      "outputs": [],
      "source": [
        "def match_kf(keyframe_list, dist_mat):\n",
        "    student_kf = []\n",
        "    kf_score = []\n",
        "    penalty = np.arange(0,0.3,0.1)\n",
        "\n",
        "    for p in penalty:\n",
        "        student_kf_temp = [0]\n",
        "        kf_score_temp = []\n",
        "\n",
        "        # เริ่มต้น\n",
        "        low_bound = np.max(dist_mat[keyframe_list[0], 0:])-p\n",
        "        match_idx = np.where(dist_mat[keyframe_list[0], 0:] >= low_bound)[0] #ครั้งแรกจะมีแค่ max อันเดียว, มากกว่า max ไม่มี\n",
        "        min_match_idx = np.where(dist_mat[keyframe_list[0], 0:] == np.sort(dist_mat[keyframe_list[0], match_idx])[-1])[0][0]\n",
        "\n",
        "        # print('kf: ',keyframe_list[0])\n",
        "        # print('student_kf_temp: ',student_kf_temp)\n",
        "        # print('low bound: ',low_bound)\n",
        "        # print('match_idx: ',match_idx)\n",
        "        # print('min_match_idx: ',min_match_idx)\n",
        "        # print(np.sort(dist_mat[keyframe_list[0], match_idx]))\n",
        "        # print('---------')\n",
        "\n",
        "        student_kf_temp.append(min_match_idx)\n",
        "        kf_score_temp.append(dist_mat[keyframe_list[0], min_match_idx])\n",
        "\n",
        "        for idx, kf in enumerate(keyframe_list[1:]):\n",
        "            idx = idx+1\n",
        "            if keyframe_list[-1] != kf:\n",
        "                # ไส้กลาง\n",
        "                low_bound = np.max(dist_mat[kf, student_kf_temp[idx]:])-p\n",
        "                match_idx = student_kf_temp[idx]+np.where(dist_mat[kf, student_kf_temp[idx]:] >= low_bound)[0]\n",
        "                min_match_idx = student_kf_temp[idx]+np.where(dist_mat[kf, student_kf_temp[idx]:] == np.sort(dist_mat[kf, match_idx])[-1])[0][0]\n",
        "\n",
        "                # print('kf: ',kf)\n",
        "                # print('student_kf_temp: ',student_kf_temp)\n",
        "                # print('low bound: ',low_bound)\n",
        "                # print('match_idx: ',match_idx)\n",
        "                # print('min_match_idx: ',min_match_idx)\n",
        "                # print(np.sort(dist_mat[kf, match_idx]))\n",
        "                # print('---------')\n",
        "\n",
        "                student_kf_temp.append(min_match_idx)\n",
        "                kf_score_temp.append(dist_mat[kf, min_match_idx])\n",
        "\n",
        "            else:\n",
        "                # ตอนสุดท้าย\n",
        "                low_bound = np.max(dist_mat[kf, student_kf_temp[idx]:])\n",
        "                match_idx = student_kf_temp[idx]+np.where(dist_mat[kf, student_kf_temp[idx]:] >= low_bound)[0]\n",
        "                min_match_idx = student_kf_temp[idx]+np.where(dist_mat[kf, student_kf_temp[idx]:] == np.sort(dist_mat[kf, match_idx])[-1])[0][0]\n",
        "\n",
        "                # print('kf: ',kf)\n",
        "                # print('student_kf_temp: ',student_kf_temp)\n",
        "                # print('low bound: ',low_bound)\n",
        "                # print('match_idx: ',match_idx)\n",
        "                # print('min_match_idx: ',min_match_idx)\n",
        "                # print(np.sort(dist_mat[kf, match_idx]))\n",
        "                # print('---------')\n",
        "\n",
        "                student_kf_temp.append(min_match_idx)\n",
        "                kf_score_temp.append(dist_mat[kf, min_match_idx])\n",
        "\n",
        "        kf_score.append(np.mean(kf_score_temp))\n",
        "        student_kf_temp.append(dist_mat.shape[1])\n",
        "        student_kf.append(student_kf_temp)\n",
        "\n",
        "    keyframe_list.insert(0,0)\n",
        "    if dist_mat.shape[0] not in keyframe_list:\n",
        "        keyframe_list.append(dist_mat.shape[0])\n",
        "\n",
        "    return keyframe_list, student_kf[np.argmax(kf_score)]"
      ]
    },
    {
      "cell_type": "code",
      "execution_count": 186,
      "metadata": {
        "id": "aI4DLbRQHmWH"
      },
      "outputs": [],
      "source": [
        "dist_lndmk_mat, dist_mat = dm(limb_vid1, limb_vid2, cosine_similarity, weight_cosine, 45, 30)"
      ]
    },
    {
      "cell_type": "code",
      "execution_count": 187,
      "metadata": {
        "colab": {
          "base_uri": "https://localhost:8080/"
        },
        "id": "-4PP_nLM9-k8",
        "outputId": "cf0cda67-72e0-4bdb-c164-835cf467a3c1"
      },
      "outputs": [
        {
          "output_type": "execute_result",
          "data": {
            "text/plain": [
              "0.5339097457400142"
            ]
          },
          "metadata": {},
          "execution_count": 187
        }
      ],
      "source": [
        "(dist_mat[186,40]+dist_mat[214,162])/2"
      ]
    },
    {
      "cell_type": "code",
      "source": [
        "(dist_mat[186,195]+dist_mat[214,198])/2"
      ],
      "metadata": {
        "colab": {
          "base_uri": "https://localhost:8080/"
        },
        "id": "uIqQUmBr6eFo",
        "outputId": "d9de5004-43e1-4e70-abe7-ba52a3bbc825"
      },
      "execution_count": 188,
      "outputs": [
        {
          "output_type": "execute_result",
          "data": {
            "text/plain": [
              "-0.1035665614831302"
            ]
          },
          "metadata": {},
          "execution_count": 188
        }
      ]
    },
    {
      "cell_type": "code",
      "execution_count": 189,
      "metadata": {
        "colab": {
          "base_uri": "https://localhost:8080/"
        },
        "id": "7Qm2j--h9-k8",
        "outputId": "3a64e393-6d1d-417e-a7ce-1c019bb38204"
      },
      "outputs": [
        {
          "output_type": "execute_result",
          "data": {
            "text/plain": [
              "([0, 186, 214, 273], [0, 48, 163, 239])"
            ]
          },
          "metadata": {},
          "execution_count": 189
        }
      ],
      "source": [
        "match_kf([186,214], dist_mat)"
      ]
    },
    {
      "cell_type": "code",
      "execution_count": 190,
      "metadata": {
        "colab": {
          "base_uri": "https://localhost:8080/",
          "height": 333
        },
        "id": "WgMX0INJd9xI",
        "outputId": "c1e23734-cbdb-42a1-9ce4-69af288a5b79"
      },
      "outputs": [
        {
          "output_type": "execute_result",
          "data": {
            "text/plain": [
              "<matplotlib.image.AxesImage at 0x796b2b6640d0>"
            ]
          },
          "metadata": {},
          "execution_count": 190
        },
        {
          "output_type": "display_data",
          "data": {
            "text/plain": [
              "<Figure size 640x480 with 1 Axes>"
            ],
            "image/png": "[encoded data removed]"
          },
          "metadata": {}
        }
      ],
      "source": [
        "plt.axis(False)\n",
        "plt.imshow(all_frame_test[186][:,:,::-1])"
      ]
    },
    {
      "cell_type": "code",
      "execution_count": 191,
      "metadata": {
        "colab": {
          "base_uri": "https://localhost:8080/",
          "height": 333
        },
        "id": "Bbss8Uc4d_Xo",
        "outputId": "36a1e3a0-f59e-459a-ac4e-0739baba9973"
      },
      "outputs": [
        {
          "output_type": "execute_result",
          "data": {
            "text/plain": [
              "<matplotlib.image.AxesImage at 0x796b2b68e980>"
            ]
          },
          "metadata": {},
          "execution_count": 191
        },
        {
          "output_type": "display_data",
          "data": {
            "text/plain": [
              "<Figure size 640x480 with 1 Axes>"
            ],
            "image/png": "[encoded data removed]"
          },
          "metadata": {}
        }
      ],
      "source": [
        "plt.axis(False)\n",
        "plt.imshow(all_frame_test2[0][:,:,::-1])"
      ]
    },
    {
      "cell_type": "code",
      "execution_count": 192,
      "metadata": {
        "id": "iQu5U1TN0SiH"
      },
      "outputs": [],
      "source": [
        "def dtw_keyframe(name_vid1: str, name_vid2: str, extracted_ladk_vid1: np.array, extracted_ladk_vid2: np.array, keyframes_list: list, sim_diff_function, path_finder, weight,\n",
        "                 norm_value=180, windows=50, thresh=False, MAW_method='aj', expo=False):\n",
        "\n",
        "    thresh_name=''\n",
        "    expo_name=''\n",
        "    keyframe_name=''\n",
        "\n",
        "    if 2 in set(weight):\n",
        "        weight_name = '-Weight'\n",
        "    else:\n",
        "        weight_name = '-Unweight'\n",
        "\n",
        "    if isinstance(weight, float):\n",
        "        weight_name = '-MAW'\n",
        "    else:\n",
        "        window = ''\n",
        "\n",
        "    if thresh:\n",
        "        thresh_name = '-thresh'\n",
        "\n",
        "    if expo:\n",
        "        expo_name = '-expo'\n",
        "\n",
        "    if MAW_method == 'me':\n",
        "        maw_met_name = '-my-method'\n",
        "    else:\n",
        "        maw_met_name = ''\n",
        "\n",
        "    if keyframes_list != []:\n",
        "        keyframe_name = '-keyframe'\n",
        "\n",
        "    if keyframes_list == []:\n",
        "        return dtw(name_vid1,\n",
        "                   name_vid2,\n",
        "                   extracted_ladk_vid1=extracted_ladk_vid1,\n",
        "                   extracted_ladk_vid2=extracted_ladk_vid2,\n",
        "                   sim_diff_function=sim_diff_function,\n",
        "                   path_finder=path_finder,\n",
        "                   weight=weight,\n",
        "                   norm_value=norm_value,\n",
        "                   windows=windows,\n",
        "                   thresh=thresh,\n",
        "                   MAW_method=MAW_method,\n",
        "                   expo=expo)\n",
        "\n",
        "    dist_lndmk_mat, dist_mat = dm(extracted_ladk_vid1=extracted_ladk_vid1,\n",
        "                                  extracted_ladk_vid2=extracted_ladk_vid2,\n",
        "                                  sim_diff_function=sim_diff_function,\n",
        "                                  weight=weight,\n",
        "                                  norm_value=norm_value,\n",
        "                                  windows=windows,\n",
        "                                  method=MAW_method,\n",
        "                                  expo=expo)\n",
        "\n",
        "    if 'difference' in sim_diff_function.__name__:\n",
        "        dist_mat = 1-dist_mat\n",
        "\n",
        "    keyframes_list, student_kf = match_kf(keyframes_list, dist_mat)\n",
        "\n",
        "    all_vert_hor = 0\n",
        "    all_row = np.array([], dtype=np.uint16).reshape(0, 1)\n",
        "    all_col = np.array([], dtype=np.uint16).reshape(0, 1)\n",
        "    # print(keyframes_list)\n",
        "    # print(student_kf)\n",
        "\n",
        "    for ks, ke, stks, stke in list(zip(keyframes_list, keyframes_list[1:], student_kf, student_kf[1:])):\n",
        "\n",
        "        # print('ks:',ks, 'ke:',ke, 'stks:',stks, 'stke:',stke)\n",
        "        # print('dist_mat shape:', dist_mat[ks:ke+1,stks:stke+1].shape)\n",
        "        path, cost_mat, vert_hor = path_finder(\n",
        "            dist_mat[ks:ke+1, stks:stke+1], sim_diff_function.__name__)\n",
        "\n",
        "        row = (np.asarray(path)+ks)[:, 0].reshape(-1, 1)\n",
        "        col = (np.asarray(path)+stks)[:, 1].reshape(-1, 1)\n",
        "\n",
        "        all_row = np.vstack((all_row, row))\n",
        "        all_col = np.vstack((all_col, col))\n",
        "\n",
        "        all_vert_hor += vert_hor\n",
        "\n",
        "    all_path = np.unique(np.hstack((all_row, all_col)), axis=0)\n",
        "\n",
        "    dist_mat_path = dist_mat[all_path[:, 0], all_path[:, 1]]\n",
        "    dist_mat_unique = dist_mat[unique_path(all_path)[:, 0], unique_path(all_path)[:, 1]]\n",
        "    unique_frames_count = dist_mat_unique.shape[0]\n",
        "\n",
        "    cost = np.mean(dist_mat_path)\n",
        "    std_all = np.std(dist_mat_path, dtype=np.float32)\n",
        "    std_unique = np.std(dist_mat_unique, dtype=np.float32)\n",
        "    mean = np.mean(dist_mat_path, dtype=np.float32)\n",
        "\n",
        "    if thresh:\n",
        "        thresh = np.mean(dist_mat_path)-0.03\n",
        "        cost = np.sum(dist_mat_path[dist_mat_path > thresh])/all_path.shape[0]\n",
        "\n",
        "    # df1 = pd.DataFrame({'Unique_frames':list(unique_path(all_path)), 'Sim_score':list(dist_mat_unique)})\n",
        "    # df1.to_csv(\"{}{}dtw_{}_{}_{}{}dtw_{}_{}_{}_{}{}{}{}{}{}{}.csv\".format(desktop+slash+'dtw', slash, name_vid1, name_vid2, sim_diff_function.__name__,\n",
        "    #                                                           slash, name_vid1, name_vid2, sim_diff_function.__name__, path_finder.__name__,\n",
        "    #                                                          weight_name,window,maw_met_name,expo_name,thresh_name,keyframe_name))\n",
        "\n",
        "    # df2 = pd.DataFrame({'Teacher_kf': keyframes_list, 'Student_kf': student_kf,\n",
        "    #                     'Sim_Score': dist_mat[np.array(keyframes_list), np.array(student_kf)]})\n",
        "    # df2.to_csv(\"{}{}dtw_{}_{}_{}{}dtw_{}_kf_{}_kf_{}_{}{}{}{}{}{}{}.csv\".format(desktop+slash+'dtw', slash, name_vid1, name_vid2, sim_diff_function.__name__,\n",
        "    #                                                                 slash, name_vid1, name_vid2, sim_diff_function.__name__, path_finder.__name__,\n",
        "    #                                                                            weight_name,window,maw_met_name,expo_name,thresh_name,keyframe_name))\n",
        "\n",
        "    return keyframes_list, student_kf, all_path, dist_mat, dist_lndmk_mat, cost_mat, all_vert_hor, cost, [std_all, std_unique, mean, unique_frames_count]"
      ]
    },
    {
      "cell_type": "code",
      "execution_count": 193,
      "metadata": {
        "id": "QYEBFe2q3IB-"
      },
      "outputs": [],
      "source": [
        "keyframes_list, student_kf, all_path_kf, dist_mat_kf, dist_lndmk_mat_kf, cost_mat_kf, all_vert_hor_kf, cost_kf, stats_kf = dtw_keyframe('เตะเฉียงหน้า', 'เตะเฉียงหน้า_2', limb_vid1, limb_vid2, [186,214], cosine_similarity, dp, weight_cosine)"
      ]
    },
    {
      "cell_type": "code",
      "execution_count": 194,
      "metadata": {
        "colab": {
          "base_uri": "https://localhost:8080/"
        },
        "id": "mwKZFxqz9-k-",
        "outputId": "ffba1e7a-2e5a-4bbe-e284-2a12d8730a66"
      },
      "outputs": [
        {
          "output_type": "execute_result",
          "data": {
            "text/plain": [
              "0.945965824890964"
            ]
          },
          "metadata": {},
          "execution_count": 194
        }
      ],
      "source": [
        "cost_kf"
      ]
    },
    {
      "cell_type": "code",
      "execution_count": 195,
      "metadata": {
        "id": "m5syigEQ7JAU"
      },
      "outputs": [],
      "source": [
        "def save_kf_img(name_vid1, name_vid2, all_frame_vid1, all_frame_vid2, kf, stu_kf, des_path):\n",
        "\n",
        "    !mkdir \"{des_path}{slash}kf_img\"\n",
        "\n",
        "    for i,j in zip(kf, stu_kf):\n",
        "\n",
        "        match_kf_img = cv2.hconcat([all_frame_vid1[i][:,:,::-1], all_frame_vid2[j][:,:,::-1]])\n",
        "        plt.axis(False)\n",
        "        plt.imshow(match_kf_img)\n",
        "        plt.savefig('{}{}kf_img{}{}_{}_{}_{}'.format(des_path, slash, slash, name_vid1, name_vid2, i, j),bbox_inches='tight')"
      ]
    },
    {
      "cell_type": "markdown",
      "metadata": {
        "id": "sM6WES9Rc8ie"
      },
      "source": [
        "# Display"
      ]
    },
    {
      "cell_type": "markdown",
      "metadata": {
        "id": "ZQdaG4hMgrI-"
      },
      "source": [
        "## Create legend"
      ]
    },
    {
      "cell_type": "code",
      "execution_count": 196,
      "metadata": {
        "colab": {
          "base_uri": "https://localhost:8080/",
          "height": 0
        },
        "id": "wODJbuyjc_y7",
        "outputId": "dc0370a6-9102-4eb5-a8ff-e94a33602e35"
      },
      "outputs": [
        {
          "output_type": "stream",
          "name": "stderr",
          "text": [
            "<ipython-input-196-a0703c0fbc08>:7: MatplotlibDeprecationWarning: The get_cmap function was deprecated in Matplotlib 3.7 and will be removed two minor releases later. Use ``matplotlib.colormaps[name]`` or ``matplotlib.colormaps.get_cmap(obj)`` instead.\n",
            "  cmap = plt.cm.get_cmap(cmap)\n"
          ]
        },
        {
          "output_type": "display_data",
          "data": {
            "text/plain": [
              "<Figure size 600x200 with 1 Axes>"
            ],
            "image/png": "[encoded data removed]"
          },
          "metadata": {}
        }
      ],
      "source": [
        "import matplotlib.colors\n",
        "\n",
        "\n",
        "def color_legend():\n",
        "    cmap = matplotlib.colors.LinearSegmentedColormap.from_list(\n",
        "        \"\", [\"red\", \"yellow\", \"green\"])\n",
        "    cmap = plt.cm.get_cmap(cmap)\n",
        "    colors = cmap(np.arange(cmap.N))\n",
        "\n",
        "    fig, ax = plt.subplots(1, figsize=(6, 2), facecolor='black')\n",
        "    plt.tick_params(axis='x', labelcolor=[1, 1, 1])\n",
        "    plt.tick_params(axis='x', labelsize=20)\n",
        "    ax.get_yaxis().set_visible(False)\n",
        "    ax.imshow([colors], extent=[0, 10, 0, 1])\n",
        "    ax.set(xticks=([0, 10]))\n",
        "    ax.set(xticklabels=([0, 1]))\n",
        "    ax.tick_params(axis='x', labelrotation=-90)\n",
        "    plt.savefig(resource + '{}color_legend.png'.format(slash),\n",
        "                facecolor=fig.get_facecolor())\n",
        "    return fig\n",
        "\n",
        "\n",
        "cl = color_legend()"
      ]
    },
    {
      "cell_type": "code",
      "execution_count": 197,
      "metadata": {
        "id": "J6iY8Q6SgoF3"
      },
      "outputs": [],
      "source": [
        "def add_cl(image, y, x, width_ratio, height_ratio, dist, sim_diff_function):\n",
        "\n",
        "    cl = cv2.imread(resource + '{}color_legend.png'.format(slash))\n",
        "\n",
        "    dim = (int(image.shape[0]*height_ratio), int(image.shape[1]*width_ratio))\n",
        "    cl = cv2.resize(cl, dim)\n",
        "    cl_img = cv2.rotate(cl, cv2.ROTATE_90_COUNTERCLOCKWISE)\n",
        "    cl_height, cl_width, _ = cl_img.shape\n",
        "\n",
        "    if 'similarity' in sim_diff_function.__name__.lower():\n",
        "        dist = 1 - dist\n",
        "\n",
        "    dist_y = dist*cl_height\n",
        "\n",
        "    start_point = (int(0.7*cl_width), int(0.1*cl_height))\n",
        "    end_point = (int(cl_width-(0.7*cl_width)), int(int(0.1*cl_height)+dist_y))\n",
        "    cv2.rectangle(cl_img, start_point, end_point, (0, 0, 0), -1)\n",
        "\n",
        "    gray_cl = cv2.cvtColor(cl_img, cv2.COLOR_BGR2GRAY)\n",
        "    _, mask = cv2.threshold(gray_cl, 0, 255, cv2.THRESH_BINARY)\n",
        "    mask_inv = cv2.bitwise_not(mask)\n",
        "    roi = image[y:y+cl_height, x:x+cl_width]\n",
        "    img_bg = cv2.bitwise_and(roi, roi, mask=mask_inv)\n",
        "    result = cv2.add(img_bg, cl_img)\n",
        "    image[y:y+cl_height, x:x+cl_width] = result\n",
        "\n",
        "    alpha = 0.5\n",
        "    beta = (1.0 - alpha)\n",
        "    mask = cv2.cvtColor(mask, cv2.COLOR_GRAY2RGB)\n",
        "    dst = cv2.addWeighted(\n",
        "        image[y:y+cl_height, x:x+cl_width], alpha, mask, beta, 0.0)\n",
        "\n",
        "    image[y:y+cl_height, x:x+cl_width] = dst\n",
        "\n",
        "    ps.putBText(image, \"Similarity score\",\n",
        "                text_offset_x=10, text_offset_y=y-20, vspace=5, hspace=5,\n",
        "                font_scale=0.5, background_RGB=(0, 0, 0), text_RGB=(255, 250, 250))"
      ]
    },
    {
      "cell_type": "markdown",
      "metadata": {
        "id": "58anHkLsguu1"
      },
      "source": [
        "## Progress bar"
      ]
    },
    {
      "cell_type": "code",
      "execution_count": 198,
      "metadata": {
        "id": "962hcOBSg3kE"
      },
      "outputs": [],
      "source": [
        "def progressBar(image: np.array, dist: float, cost: float, sim_diff_function):\n",
        "    \"\"\"\n",
        "    วาดหลอดแสดงค่าคะแนน แสดงเป็นค่าความเหมือน\n",
        "\n",
        "    input:\n",
        "        image : frame ภาพที่จะวาด\n",
        "        dist : ค่าคะแนนความต่าง/ความเหมือนต่อเฟรม\n",
        "        cost : ยอดสะสมค่าคะแนนความต่าง/ความเหมือน\n",
        "        sim_diff_function : ฟังก์ชันที่ใช้ในการคำนวณความต่าง/ความเหมือน\n",
        "\n",
        "    output:\n",
        "        หลอดแนวตั้ง: แสดงค่าความเหมือนของวิดิโอทั้ง 2 ในคู่เฟรมนั้นๆ\n",
        "        หลอดแนวนอน: แสดงค่าความเหมือนรวมกันตั้งแต่ต้นยันจบของ 2 วิดิโอ\n",
        "    \"\"\"\n",
        "    height, width, _ = image.shape\n",
        "\n",
        "    if 'difference' in sim_diff_function.__name__.lower():\n",
        "        dist = 1 - dist\n",
        "        cost = 1 - cost\n",
        "\n",
        "    cv2.line(image, (0, height), (width, height), (255, 255, 255), 40)\n",
        "    cv2.line(image, (0, height), (int(cost*width), height), (50, 205, 50), 40)\n",
        "    cv2.putText(image, 'Total Similarity Score: ', (0, height), cv2.FONT_HERSHEY_SIMPLEX,\n",
        "                1, (0, 0, 0), 2, cv2.LINE_AA)\n",
        "    cv2.putText(image, '{:.2f}'.format(cost*100), (int(cost*width)-35, height), cv2.FONT_HERSHEY_SIMPLEX,\n",
        "                1, (0, 0, 0), 2, cv2.LINE_AA)"
      ]
    },
    {
      "cell_type": "markdown",
      "metadata": {
        "id": "yi2vGr4Cg-M4"
      },
      "source": [
        "## Error point"
      ]
    },
    {
      "cell_type": "code",
      "execution_count": 199,
      "metadata": {
        "id": "VIXryaZnhT_U"
      },
      "outputs": [],
      "source": [
        "def form_vec(coor_arr: np.array):\n",
        "    \"\"\"\n",
        "    เอาเฉพาะ x กับ y ในตำแหน่งข้อต่อ\n",
        "\n",
        "    input:\n",
        "        coor_arr: ตำแหน่งข้อต่อ 3 มิติ (x,y,z)\n",
        "\n",
        "    output:\n",
        "        ตำแหน่งข้อต่อ 2 มิติ\n",
        "    \"\"\"\n",
        "    return (int(coor_arr[0]), int(coor_arr[1]))"
      ]
    },
    {
      "cell_type": "code",
      "execution_count": 200,
      "metadata": {
        "id": "7Ui2rmouhJDI"
      },
      "outputs": [],
      "source": [
        "def denormalize_landmark(cam_landmark: np.array, mapped_landmark: list, width: int, height: int):\n",
        "    \"\"\"\n",
        "    denormalize landmark\n",
        "\n",
        "    input:\n",
        "        cam_landmark : ตำแหน่งข้อต่อแบบ camera coordinate\n",
        "        mapped_landmark : ตำแหน่ง landmark ที่ k ใน cam_landmark\n",
        "        width : ความกว้างของรูป (x)\n",
        "        height : ความสูงของรูป (y)\n",
        "\n",
        "    output:\n",
        "        denorm_landmark : denormalized landmark\n",
        "    \"\"\"\n",
        "\n",
        "    denorm_landmark = []\n",
        "    for i in mapped_landmark:\n",
        "        denorm_landmark.append(\n",
        "            [cam_landmark[i][0]*width, cam_landmark[i][1]*height, cam_landmark[i][2]*width])\n",
        "    denorm_landmark.append(\n",
        "        [cam_landmark[19][0]*width, cam_landmark[19][1]*height, cam_landmark[19][2]*width])\n",
        "    denorm_landmark.append(\n",
        "        [cam_landmark[20][0]*width, cam_landmark[20][1]*height, cam_landmark[20][2]*width])\n",
        "    denorm_landmark.append(\n",
        "        [cam_landmark[31][0]*width, cam_landmark[31][1]*height, cam_landmark[31][2]*width])\n",
        "    denorm_landmark.append(\n",
        "        [cam_landmark[32][0]*width, cam_landmark[32][1]*height, cam_landmark[32][2]*width])\n",
        "\n",
        "    return denorm_landmark"
      ]
    },
    {
      "cell_type": "code",
      "execution_count": 201,
      "metadata": {
        "id": "K-m2VY6JhFZo"
      },
      "outputs": [],
      "source": [
        "def map_landmark(sim_diff_function, k: int):\n",
        "    \"\"\"\n",
        "    ฟังก์ชัน map ตำแหน่งของข้อพับทั้ง 12 หรือท่อนแขนท่อนขาทั้ง 16 เป็นตำแหน่งใน cam_landmark\n",
        "\n",
        "    input:\n",
        "        sim_diff_function : ฟังก์ชันที่ใช้ในการคำนวณค่าคะแนน\n",
        "        k : ข้อพับ/ท่อนแขนท่อนขาที่เท่าไหร่\n",
        "\n",
        "    output:\n",
        "        dict_map[k] : ตำแหน่งของข้อพับ/ท่อนแขนท่อนขาที่ k ใน cam_landmark\n",
        "    \"\"\"\n",
        "\n",
        "    if \"angle\" in sim_diff_function.__name__.lower():\n",
        "        dict_map = {0: [16], 1: [14], 2: [12], 3: [24], 4: [26], 5: [\n",
        "            28], 6: [15], 7: [13], 8: [11], 9: [23], 10: [25], 11: [27]}\n",
        "    elif \"cosine\" in sim_diff_function.__name__.lower():\n",
        "        dict_map = {0: [28, 32], 1: [26, 28], 2: [24, 26], 3: [12, 24], 4: [16, 20], 5: [14, 16], 6: [12, 14], 7: [27, 31], 8: [25, 27], 9: [23, 25],\n",
        "                    10: [11, 23], 11: [15, 19], 12: [13, 15], 13: [11, 13], 14: [11, 12], 15: [23, 24]}\n",
        "    return dict_map[k]"
      ]
    },
    {
      "cell_type": "code",
      "execution_count": 202,
      "metadata": {
        "id": "Izj3AIZbhA9y"
      },
      "outputs": [],
      "source": [
        "def color_error(cam_landmark: np.array, width: int, height: int, image: np.array, dist_lndmk_mat: np.array, k: int,\n",
        "                weight: np.array, sim_diff_function):\n",
        "    \"\"\"\n",
        "    ฟังก์ชันแสดงจุดที่ผิดพลาด\n",
        "\n",
        "    input:\n",
        "        cam_landmark : ตำแหน่งข้อต่อแบบ camera coordinate\n",
        "        width : ความกว้างของรูป (x)\n",
        "        height : ความสูงของรูป (y)\n",
        "        image : รูปภาพ frame ที่ต้องการ\n",
        "        dist_lndmk_mat : ค่าคะนนความต่าง/ความเหมือน ของแต่ละข้อต่อ ของทุกคู่เฟรม (แยกข้อต่อ/แยกท่อนแขนท่อนขา)\n",
        "        k : ข้อต่อ/ท่อนแขนท่อนขา ที่เท่าไหร่ใน dist_lndmk_mat\n",
        "        weight : ค่าถ่วงน้ำหนักที่ได้จาก csv config\n",
        "        sim_diff_function : ฟังก์ชันที่ใช้คำนวณความต่าง/ความเหมือน\n",
        "\n",
        "    output:\n",
        "        new_image : ภาพที่แสดงจุดผิดพลาดไป 1 ข้อต่อ/ท่อนแขนท่อนขา\n",
        "    \"\"\"\n",
        "\n",
        "    annotated_img = image.copy()\n",
        "    denorm_landmark = denormalize_landmark(\n",
        "        cam_landmark, map_landmark(sim_diff_function, k), width, height)\n",
        "\n",
        "    for i in range(len(denorm_landmark)):\n",
        "        cv2.circle(image, (int(denorm_landmark[i][0]), int(\n",
        "            denorm_landmark[i][1])), 4, (255, 255, 255), -1)\n",
        "\n",
        "    # ori_similarity = (dist_lndmk_mat[k]/weight[k])\n",
        "    ori_similarity = dist_lndmk_mat[k]\n",
        "\n",
        "    if \"angle\" in sim_diff_function.__name__.lower():\n",
        "        bright = ori_similarity*255\n",
        "        size = int(max(5, min(20, 1/(ori_similarity))))\n",
        "\n",
        "        cv2.circle(annotated_img, (int(denorm_landmark[0][0]), int(\n",
        "            denorm_landmark[0][1])), size, (0, bright, 255), -1)\n",
        "\n",
        "    elif \"cosine\" in sim_diff_function.__name__.lower():\n",
        "        bright = ori_similarity*255\n",
        "        size = int(max(3, min(20, 1/(ori_similarity))))\n",
        "\n",
        "        cv2.line(annotated_img, form_vec(denorm_landmark[0]), form_vec(\n",
        "            denorm_landmark[1]), (0, bright, 255), size)\n",
        "\n",
        "    opacity = 0.4\n",
        "    new_image = cv2.addWeighted(annotated_img, opacity, image, 1 - opacity, 0)\n",
        "\n",
        "    return new_image"
      ]
    },
    {
      "cell_type": "markdown",
      "metadata": {
        "id": "0Io_vB8HjJ8e"
      },
      "source": [
        "## Graph"
      ]
    },
    {
      "cell_type": "code",
      "execution_count": 203,
      "metadata": {
        "id": "J_6SfSS4Bn5f"
      },
      "outputs": [],
      "source": [
        "import wget\n",
        "import matplotlib.font_manager as mpl\n",
        "\n",
        "path = './thsarabunnew-webfont.ttf'\n",
        "\n",
        "check_file = os.path.isfile(path)\n",
        "\n",
        "if not check_file:\n",
        "\n",
        "    URL = \"https://github.com/Phonbopit/sarabun-webfont/raw/master/fonts/thsarabunnew-webfont.ttf\"\n",
        "    wget.download(URL, \"thsarabunnew-webfont.ttf\")\n",
        "\n",
        "mpl.fontManager.addfont(\"thsarabunnew-webfont.ttf\")"
      ]
    },
    {
      "cell_type": "code",
      "execution_count": 204,
      "metadata": {
        "id": "2dUyAESwjL85"
      },
      "outputs": [],
      "source": [
        "def plot_dtw(path: list, cost_mat: np.array, name_vid1: str, name_vid2: str, sim_diff_function, destination_path: str):\n",
        "    \"\"\"\n",
        "    plot กราฟเส้นทางที่ดีที่สุด (path) ของ DTW\n",
        "\n",
        "    input:\n",
        "        path : เส้นทางที่ดีที่สุดของ DTW ได้จากฟังก์ชัน dtw\n",
        "        cost_mat : cost matrix ผลรวมของคะแนนความต่าง/ความเหมือน ของทุกคู่เฟรมในเส้นทาง ได้จากฟังก์ชัน dtw\n",
        "        name_vid1 : ชื่อวิดิโอที่ 1\n",
        "        name_vid2 : ชื่อวิดิโอที่ 2\n",
        "        sim_diff_function : ฟังก์ชันที่ใช้คำนวณความต่าง/ความเหมือน ex. cosine_similarity, angle_difference\n",
        "\n",
        "    output:\n",
        "        path.png : กราฟแสดงเส้นทางของ DTW\n",
        "    \"\"\"\n",
        "\n",
        "    print(\"{}-{} ({})\".format(name_vid1, name_vid2, sim_diff_function.__name__))\n",
        "    fig = plt.figure()\n",
        "    plt.title(\"Path {}_{}_{}\".format(\n",
        "        name_vid1, name_vid2, sim_diff_function.__name__))\n",
        "    plt.axis([-10, cost_mat.shape[1], -10, cost_mat.shape[0]])\n",
        "    plt.grid(False)\n",
        "    ax = plt.gca()\n",
        "    ax.set_ylim(cost_mat.shape[0], -10)\n",
        "    ax.xaxis.tick_top()\n",
        "    ax.yaxis.tick_left()\n",
        "    ax.set_xlabel(name_vid2)\n",
        "    ax.set_ylabel(name_vid1)\n",
        "\n",
        "    x_path, y_path = zip(*path)\n",
        "    ax.plot(y_path, x_path)\n",
        "    plt.close()\n",
        "    fig.savefig(\"{}{}dtw_{}_{}_{}{}path.png\".format(destination_path,\n",
        "                slash, name_vid1, name_vid2, sim_diff_function.__name__, slash))"
      ]
    },
    {
      "cell_type": "code",
      "execution_count": 205,
      "metadata": {
        "id": "Mt4iRozejOwG"
      },
      "outputs": [],
      "source": [
        "def graph_dist_path(dist_mat: np.array, path: list, name_vid1: str, name_vid2: str, sim_diff_function, destination_path: str):\n",
        "    \"\"\"\n",
        "    plot line chart แสดงค่าคะแนนความต่าง/ความเหมือน ต่อ คู่เฟรมใน path\n",
        "\n",
        "    input:\n",
        "        dist_mat : distance matrix เมทริกซ์แสดงคะแนนความต่าง/ความเหมือน ของทุกคู่เฟรม (รวมทุกข้อต่อ/ท่อนแขนท่อนขา)\n",
        "        path : เส้นทางที่ดีที่สุดของ DTW ได้จากฟังก์ชัน dtw\n",
        "        name_vid1 : ชื่อวิดิโอที่ 1\n",
        "        name_vid2 : ชื่อวิดิโอที่ 2\n",
        "        sim_diff_function : ฟังก์ชันที่ใช้คำนวณความต่าง/ความเหมือน ex. cosine_similarity, angle_difference\n",
        "\n",
        "    output:\n",
        "        graph.png : กราฟแกน x เป็นคู่เฟรมที่อยู่ใน path แกน y เป็นค่าคะแนนความต่าง/ความเหมือน\n",
        "    \"\"\"\n",
        "\n",
        "    dist_df = pd.DataFrame({'path': [str(i) for i in path], 'norm_difference': [\n",
        "                           dist_mat[i, j] for i, j in path]})\n",
        "    dist_df['std'] = dist_df['norm_difference'].std()\n",
        "    dist_df['lower_bound'] = dist_df.apply(\n",
        "        lambda x: x['norm_difference']-x['std'], axis=1)\n",
        "    dist_df['upper_bound'] = dist_df.apply(\n",
        "        lambda x: x['norm_difference']+x['std'], axis=1)\n",
        "    fig = plt.figure(figsize=(100, 8))\n",
        "    plt.plot(dist_df['path'], dist_df['norm_difference'])\n",
        "    plt.fill_between(dist_df['path'], dist_df['lower_bound'],\n",
        "                     dist_df['upper_bound'], color='b', alpha=.15)\n",
        "    plt.title(\"difference\")\n",
        "    plt.xlabel('Path')\n",
        "    plt.ylabel('difference')\n",
        "    plt.xticks(rotation=90)\n",
        "    plt.close()\n",
        "    fig.savefig(\"{}{}{}_dtw_{}_{}{}graph.png\".format(destination_path,\n",
        "                slash, name_vid1, name_vid2, sim_diff_function.__name__, slash))"
      ]
    },
    {
      "cell_type": "markdown",
      "metadata": {
        "id": "4V_4fLnRhmNk"
      },
      "source": [
        "## Export Vdo"
      ]
    },
    {
      "cell_type": "code",
      "execution_count": 206,
      "metadata": {
        "id": "o03Y-IMqhxND"
      },
      "outputs": [],
      "source": [
        "def hconcat_resize(img_list: list):\n",
        "    \"\"\"\n",
        "    ต่อภาพที่ขนาดไม่เท่ากัน\n",
        "\n",
        "    input:\n",
        "        img_list : list ของรูปภาพที่ต้องการต่อ ex. [img1,img2]\n",
        "\n",
        "    output:\n",
        "        im_list_resize : รูปภาพที่ต่อกันแล้ว\n",
        "    \"\"\"\n",
        "    # take minimum hights\n",
        "    h_min = min(img.shape[0]\n",
        "                for img in img_list)\n",
        "\n",
        "    # image resizing\n",
        "    im_list_resize = [cv2.resize(img,\n",
        "                                 (int(img.shape[1] * h_min / img.shape[0]),\n",
        "                                  h_min), interpolation=cv2.INTER_CUBIC)\n",
        "                      for img in img_list]\n",
        "\n",
        "    # return final image\n",
        "    return cv2.hconcat(im_list_resize)"
      ]
    },
    {
      "cell_type": "code",
      "execution_count": 207,
      "metadata": {
        "id": "M7i3WTz7hplo"
      },
      "outputs": [],
      "source": [
        "def display_img(name_vid1: str, name_vid2: str, path: list, dist_mat: np.array, dist_lndmk_mat: np.array,\n",
        "                weight: np.array, sim_diff_function, path_finder, all_frame1: list, all_frame2: list, cam_land_vid1: np.array,\n",
        "                cam_land_vid2: np.array, destination_path: str):\n",
        "    \"\"\"\n",
        "    แสดงผลและเซฟรูป/วิดิโอ\n",
        "\n",
        "    input:\n",
        "        name_vid1 : ชื่อวิดิโอที่ 1\n",
        "        name_vid2 : ชื่อวิดิโอที่ 2\n",
        "        path : เส้นทางที่ดีที่สุดของ DTW ได้จากฟังก์ชัน dtw\n",
        "        dist_mat : distance matrix เมทริกซ์แสดงคะแนนความต่าง/ความเหมือน ของทุกคู่เฟรม (รวมทุกข้อต่อ/ท่อนแขนท่อนขา)\n",
        "        dist_lndmk_mat : ค่าคะนนความต่าง/ความเหมือน ของแต่ละข้อต่อ ของทุกคู่เฟรม (แยกข้อต่อ/แยกท่อนแขนท่อนขา) (ใช้แสดงจุดผิดพลาด)\n",
        "        weight : ค่าถ่วงน้ำหนักที่ได้จาก csv config\n",
        "        sim_diff_function : ฟังก์ชันที่ใช้คำนวณความต่าง/ความเหมือน ex. cosine_similarity, angle_difference\n",
        "        all_frame1 : รูปภาพทุกเฟรมของวิดิโอที่ 1 ที่วาดโครงกระดูกแล้ว\n",
        "        all_frame2 : รูปภาพทุกเฟรมของวิดิโอที่ 2 ที่วาดโครงกระดูกแล้ว\n",
        "        cam_land_vid1 : ตำแหน่งข้อต่อแบบ camera coordinate ของวิดิโอที่ 1\n",
        "        cam_land_vid2 : ตำแหน่งข้อต่อแบบ camera coordinate ของวิดิโอที่ 2\n",
        "\n",
        "    output:\n",
        "        folder : dtw_ชื่อวิดิโอที่1_ชื่อวิดิโอที่2_ชื่อฟังก์ชัน sim_diff_function\n",
        "    \"\"\"\n",
        "    if len(set(weight)) > 1:\n",
        "        weight_name = '-Weight'\n",
        "    else:\n",
        "        weight_name = '-Unweight'\n",
        "    height, width, _ = hconcat_resize([all_frame1[0], all_frame2[0]]).shape\n",
        "    out = cv2.VideoWriter(\"{}{}dtw_{}_{}_{}{}dtw_{}_{}_{}_{}{}-keyframe.avi\".format(destination_path, slash, name_vid1, name_vid2, sim_diff_function.__name__,\n",
        "                                                                         slash, name_vid1, name_vid2, sim_diff_function.__name__, path_finder.__name__,\n",
        "                                                                          weight_name),\n",
        "                          cv2.VideoWriter_fourcc('M', 'J', 'P', 'G'), 30, (width, height))\n",
        "\n",
        "    cl = cv2.imread(resource + '{}color_legend.png'.format(slash))\n",
        "    cl_img = cv2.rotate(cl, cv2.ROTATE_90_COUNTERCLOCKWISE)\n",
        "    cl_height, cl_width, _ = cl_img.shape\n",
        "    cost = 0\n",
        "    for i, j in path:\n",
        "\n",
        "        img1 = all_frame1[i].copy()\n",
        "        img2 = all_frame2[j].copy()\n",
        "        height1, width1, _ = img1.shape\n",
        "        height2, width2, _ = img2.shape\n",
        "        height_ratio = cl_height/max(height1, height2)\n",
        "        width_ratio = cl_width/max(width1, width2)\n",
        "\n",
        "        add_cl(image=img2,\n",
        "               y=int((height2/2)-(height2*height_ratio)/2),\n",
        "               x=0,\n",
        "               width_ratio=width_ratio,\n",
        "               height_ratio=height_ratio,\n",
        "               dist=dist_mat[i, j],\n",
        "               sim_diff_function=sim_diff_function)\n",
        "\n",
        "        cost += dist_mat[i, j]/len(path)\n",
        "\n",
        "        progressBar(image=img2,\n",
        "                    dist=dist_mat[i, j],\n",
        "                    cost=cost,\n",
        "                    sim_diff_function=sim_diff_function)\n",
        "\n",
        "        for k in range(dist_lndmk_mat[i, j].shape[0]):\n",
        "\n",
        "            # color_error ใช้ได้กับ similarity อย่างเดียว\n",
        "            if \"similarity\" in sim_diff_function.__name__.lower():\n",
        "                img1 = color_error(\n",
        "                    cam_land_vid1[i], width1, height1, img1, dist_lndmk_mat[i, j], k, weight, sim_diff_function)\n",
        "                img2 = color_error(\n",
        "                    cam_land_vid2[j], width2, height2, img2, dist_lndmk_mat[i, j], k, weight, sim_diff_function)\n",
        "            elif \"difference\" in sim_diff_function.__name__.lower():\n",
        "                img1 = color_error(\n",
        "                    cam_land_vid1[i], width1, height1, img1, 1-dist_lndmk_mat[i, j], k, weight, sim_diff_function)\n",
        "                img2 = color_error(\n",
        "                    cam_land_vid2[j], width2, height2, img2, 1-dist_lndmk_mat[i, j], k, weight, sim_diff_function)\n",
        "\n",
        "        merge_img = hconcat_resize([img1, img2])\n",
        "\n",
        "        out.write(merge_img)\n",
        "\n",
        "    out.release()"
      ]
    },
    {
      "cell_type": "markdown",
      "metadata": {
        "id": "wYyyBmsli3wn"
      },
      "source": [
        "# Warp up"
      ]
    },
    {
      "cell_type": "code",
      "source": [
        "diff_angle_dict = {\n",
        "    \"เข่าตรงหลัง1_ตรง\": [178],\n",
        "    \"เข่าน้อยหน้า1_ตรง\":[221],\n",
        "    \"เข่าน้อยหน้า2_ตรง\":[268],\n",
        "    \"เข่าพร้อมศอกหน้า1_ตรง\":[164],\n",
        "    \"เข่าพร้อมศอกหน้า2_ตรง\":[222],\n",
        "    \"เข่าพร้อมศอกหลัง1_ตรง\": [152],\n",
        "    \"เตะเฉียงหน้า1_ตรง\": [124],\n",
        "    \"เตะเฉียงหลัง1_ตรง\": [145],\n",
        "    \"เตะตรงหน้า1_ตรง\":[132],\n",
        "    \"เตะตรงหน้า2_ตรง\":[106],\n",
        "    \"ถีบข้างสลับฟันปลาหน้า1_ตรง\":[240, 274],\n",
        "    \"ถีบข้างสลับฟันปลาหน้า2_ตรง\":[174, 229],\n",
        "    \"ถีบตรงหน้า1_ตรง\":[241],\n",
        "    \"ถีบตรงหน้า2_ตรง\":[251],\n",
        "    \"ปิดพร้อมต่อยหลัง1_ตรง\":[171,190],\n",
        "    \"ปิดพร้อมต่อยหลัง2_ตรง\":[141,181],\n",
        "    \"ยอเขาพระสุเมรุหน้า1_ตรง\":[204],\n",
        "    \"ยอเขาพระสุเมรุหน้า2_ตรง\":[173],\n",
        "    \"ศอกกระทุ้งหน้า1_ตรง\":[219,240],\n",
        "    \"ศอกกระทุ้งหน้า2_ตรง\":[223,257],\n",
        "    \"ศอกเฉียงตีขึ้นตีลงหน้า1_ตรง\":[116,139],\n",
        "    \"ศอกเฉียงตีขึ้นตีลงหน้า2_ตรง\":[126,156],\n",
        "    \"ศอกเฉียงตีขึ้นตีลงหน้า3_ตรง\":[116,139],\n",
        "    \"ศอกเฉียงตีขึ้นหน้า1_ตรง\":[144],\n",
        "    \"ศอกเฉียงตีขึ้นหน้า2_ตรง\":[162],\n",
        "    \"ศอกเฉียงตีขึ้นหน้า3_ตรง\": [123],\n",
        "    \"ศอกเฉียงตีลงหน้า1_ตรง\":[92],\n",
        "    \"ศอกเฉียงตีลงหน้า2_ตรง\":[82],\n",
        "    \"ศอกเฉียงตีลงหน้า3_ตรง\":[43],\n",
        "    \"ศอกเฉียงหลัง1_ตรง\": [136],\n",
        "    \"สืบถอยพร้อมต่อยหมัดตรงหน้า1_ตรง\":[412],\n",
        "    \"สืบถอยพร้อมต่อยหมัดตรงหน้า2_ตรง\":[178],\n",
        "    \"หมัดกระแทกหน้า1_ตรง\": [140]\n",
        "}"
      ],
      "metadata": {
        "id": "OsnXpyU3pB9P"
      },
      "execution_count": 208,
      "outputs": []
    },
    {
      "cell_type": "code",
      "source": [
        "friends_video_dict = {\n",
        "    \"เข่าตรงหลัง\":[144],\n",
        "    \"เข่าตัดหน้า\":[185],\n",
        "    \"เข่าตัดหลัง\":[214],\n",
        "    \"เข่าน้อยหน้า\":[310],\n",
        "    \"เข่าน้อยหลัง\": [423],\n",
        "    \"เข่าพร้อมศอกหน้า\":[220],\n",
        "    \"เข่าพร้อมศอกหลัง\":[171],\n",
        "    \"เตะเฉียงหน้า\":[214],\n",
        "    \"เตะเฉียงหลัง\":[107],\n",
        "    \"เตะตรงหน้า\":[116],\n",
        "    \"ถีบข้างสลับฟันปลาหน้า\":[195, 232],\n",
        "    \"ถีบตรงหน้า\":[208],\n",
        "    \"ปิดพร้อมต่อยหลัง\":[133,171],\n",
        "    \"ยอเขาพระสุเมรุหน้า\":[204],\n",
        "    \"ศอกกระทุ้งหน้า\":[251,268],\n",
        "    \"ศอกเฉียงตีขึ้นตีลงหน้า\":[84,110],\n",
        "    \"ศอกเฉียงตีขึ้นหน้า\":[163],\n",
        "    \"ศอกเฉียงตีลงหน้า\":[52],\n",
        "    \"สืบถอยพร้อมต่อยหมัดตรงหน้า\":[405],\n",
        "    \"หมัดกระแทกหน้า\":[194]\n",
        "}"
      ],
      "metadata": {
        "id": "E7gCvruhnhgc"
      },
      "execution_count": 209,
      "outputs": []
    },
    {
      "cell_type": "code",
      "source": [
        "for i,j in friends_video_dict.items():\n",
        "    print(i,j[0])"
      ],
      "metadata": {
        "colab": {
          "base_uri": "https://localhost:8080/"
        },
        "id": "OqaWKbYIjj-l",
        "outputId": "149c94d2-2a16-467d-e0a3-43fcb05dbdb5"
      },
      "execution_count": 244,
      "outputs": [
        {
          "output_type": "stream",
          "name": "stdout",
          "text": [
            "เข่าตรงหลัง 144\n",
            "เข่าตัดหน้า 185\n",
            "เข่าตัดหลัง 214\n",
            "เข่าน้อยหน้า 310\n",
            "เข่าน้อยหลัง 423\n",
            "เข่าพร้อมศอกหน้า 220\n",
            "เข่าพร้อมศอกหลัง 171\n",
            "เตะเฉียงหน้า 214\n",
            "เตะเฉียงหลัง 107\n",
            "เตะตรงหน้า 116\n",
            "ถีบข้างสลับฟันปลาหน้า 195\n",
            "ถีบตรงหน้า 208\n",
            "ปิดพร้อมต่อยหลัง 133\n",
            "ยอเขาพระสุเมรุหน้า 204\n",
            "ศอกกระทุ้งหน้า 251\n",
            "ศอกเฉียงตีขึ้นตีลงหน้า 84\n",
            "ศอกเฉียงตีขึ้นหน้า 163\n",
            "ศอกเฉียงตีลงหน้า 52\n",
            "สืบถอยพร้อมต่อยหมัดตรงหน้า 405\n",
            "หมัดกระแทกหน้า 194\n"
          ]
        }
      ]
    },
    {
      "cell_type": "code",
      "source": [
        "tab = {}\n",
        "for i,j in list(friends_video_dict.items()):\n",
        "    tab[f'{i}_{j}'] = {}\n",
        "    path1 = glob(f'/content/drive/MyDrive/Resources/Video_เพื่อน/landmarks/**/{i}')[0]\n",
        "    cam1, world1, frame1 = import_file(path1)\n",
        "    limb1 = find_limb(world1)\n",
        "    for k,l in list(friends_video_dict.items()):\n",
        "        print(i,k)\n",
        "        path2 = glob(f'/content/drive/MyDrive/Resources/Video_เพื่อน/landmarks/**/{k}')[0]\n",
        "        cam2, world2, frame2 = import_file(path2)\n",
        "        limb2 = find_limb(world2)\n",
        "\n",
        "        score = cosine_similarity(limb1[j[0]], limb2[l[0]], np.ones(16), 180, False)\n",
        "        tab[f'{i}_{j}'][f'{k}_{l}']=np.sum(score)/16"
      ],
      "metadata": {
        "colab": {
          "base_uri": "https://localhost:8080/"
        },
        "id": "qx0nVY9vgSs6",
        "outputId": "8c33a3de-43c9-493d-d4e7-df758faf1344"
      },
      "execution_count": null,
      "outputs": [
        {
          "output_type": "stream",
          "name": "stdout",
          "text": [
            "เข่าตรงหลัง เข่าตรงหลัง\n",
            "เข่าตรงหลัง เข่าตัดหน้า\n",
            "เข่าตรงหลัง เข่าตัดหลัง\n",
            "เข่าตรงหลัง เข่าน้อยหน้า\n",
            "เข่าตรงหลัง เข่าน้อยหลัง\n",
            "เข่าตรงหลัง เข่าพร้อมศอกหน้า\n",
            "เข่าตรงหลัง เข่าพร้อมศอกหลัง\n",
            "เข่าตรงหลัง เตะเฉียงหน้า\n",
            "เข่าตรงหลัง เตะเฉียงหลัง\n",
            "เข่าตรงหลัง เตะตรงหน้า\n",
            "เข่าตรงหลัง ถีบข้างสลับฟันปลาหน้า\n",
            "เข่าตรงหลัง ถีบตรงหน้า\n",
            "เข่าตรงหลัง ปิดพร้อมต่อยหลัง\n",
            "เข่าตรงหลัง ยอเขาพระสุเมรุหน้า\n",
            "เข่าตรงหลัง ศอกกระทุ้งหน้า\n",
            "เข่าตรงหลัง ศอกเฉียงตีขึ้นตีลงหน้า\n",
            "เข่าตรงหลัง ศอกเฉียงตีขึ้นหน้า\n",
            "เข่าตรงหลัง ศอกเฉียงตีลงหน้า\n",
            "เข่าตรงหลัง สืบถอยพร้อมต่อยหมัดตรงหน้า\n",
            "เข่าตรงหลัง หมัดกระแทกหน้า\n",
            "เข่าตัดหน้า เข่าตรงหลัง\n",
            "เข่าตัดหน้า เข่าตัดหน้า\n",
            "เข่าตัดหน้า เข่าตัดหลัง\n",
            "เข่าตัดหน้า เข่าน้อยหน้า\n",
            "เข่าตัดหน้า เข่าน้อยหลัง\n",
            "เข่าตัดหน้า เข่าพร้อมศอกหน้า\n",
            "เข่าตัดหน้า เข่าพร้อมศอกหลัง\n",
            "เข่าตัดหน้า เตะเฉียงหน้า\n",
            "เข่าตัดหน้า เตะเฉียงหลัง\n",
            "เข่าตัดหน้า เตะตรงหน้า\n",
            "เข่าตัดหน้า ถีบข้างสลับฟันปลาหน้า\n",
            "เข่าตัดหน้า ถีบตรงหน้า\n",
            "เข่าตัดหน้า ปิดพร้อมต่อยหลัง\n",
            "เข่าตัดหน้า ยอเขาพระสุเมรุหน้า\n",
            "เข่าตัดหน้า ศอกกระทุ้งหน้า\n",
            "เข่าตัดหน้า ศอกเฉียงตีขึ้นตีลงหน้า\n",
            "เข่าตัดหน้า ศอกเฉียงตีขึ้นหน้า\n",
            "เข่าตัดหน้า ศอกเฉียงตีลงหน้า\n",
            "เข่าตัดหน้า สืบถอยพร้อมต่อยหมัดตรงหน้า\n",
            "เข่าตัดหน้า หมัดกระแทกหน้า\n"
          ]
        }
      ]
    },
    {
      "cell_type": "code",
      "source": [
        "pd.DataFrame(tab)"
      ],
      "metadata": {
        "id": "phRW9t2D1yGW"
      },
      "execution_count": null,
      "outputs": []
    },
    {
      "cell_type": "code",
      "source": [
        "pd.DataFrame(tab).to_csv('Keyframe_unique.csv')"
      ],
      "metadata": {
        "id": "elu-CpcTrMaA"
      },
      "execution_count": null,
      "outputs": []
    },
    {
      "cell_type": "code",
      "execution_count": 210,
      "metadata": {
        "id": "0NmSoPofi5OV"
      },
      "outputs": [],
      "source": [
        "# w/ keyframe\n",
        "def comparevid_kf(path_landmark1: str, path_landmark2: str, keyframes_list: list, destination_path: str, sim_diff_function, extract_function, path_finder,\n",
        "                 norm_value = 180, weight = False, thresh = False, expo = False, MAW_method = 'aj', windows = 30, video = False, kf_img = False, showtext=True):\n",
        "\n",
        "    name_vid1 = path_landmark1.split(slash)[-1]\n",
        "    name_vid2 = path_landmark2.split(slash)[-1]\n",
        "    name_func = sim_diff_function.__name__.split('_')[0]\n",
        "\n",
        "    thresh_name=''\n",
        "    expo_name=''\n",
        "    keyframe_name=''\n",
        "\n",
        "    if weight:\n",
        "        weight_name = 'Weight'\n",
        "    else:\n",
        "        weight_name = 'Unweight'\n",
        "\n",
        "    if weight == 'auto':\n",
        "        weight_name = 'MAW'\n",
        "    else:\n",
        "        window = ''\n",
        "\n",
        "    if thresh:\n",
        "        thresh_name = '-thresh'\n",
        "\n",
        "    if expo:\n",
        "        expo_name = '-expo'\n",
        "\n",
        "    if MAW_method == 'me':\n",
        "        maw_met_name = '-my-method'\n",
        "    else:\n",
        "        maw_met_name = ''\n",
        "\n",
        "    if keyframes_list != []:\n",
        "        keyframe_name = '-keyframe'\n",
        "\n",
        "    if weight == 'auto':\n",
        "        weight = 'auto'\n",
        "    elif weight:\n",
        "        weight = import_weight(resource + '{}weight_config_{}_list.csv'.format(slash, name_func), name_vid1.split('_')[0])\n",
        "    else:\n",
        "        weight = import_weight(resource + '{}weight_config_{}_list.csv'.format(slash, name_func), \"default\")\n",
        "\n",
        "    cam_land_vid1, world_land_vid1, all_frame1, = import_file(path_landmark1)\n",
        "    cam_land_vid2, world_land_vid2, all_frame2 = import_file(path_landmark2)\n",
        "\n",
        "    extracted_ladk_vid1 = extract_function(world_land_vid1)\n",
        "    extracted_ladk_vid2 = extract_function(world_land_vid2)\n",
        "\n",
        "    kf_list, stkf_list, path, dist_mat, dist_lndmk_mat, cost_mat, vert_hor, cost, stats = dtw_keyframe(name_vid1, name_vid2,\n",
        "                                                                                   extracted_ladk_vid1, extracted_ladk_vid2,\n",
        "                                                                                   keyframes_list, sim_diff_function,\n",
        "                                                                                   path_finder, weight,\n",
        "                                                                                   norm_value, windows, thresh,\n",
        "                                                                                   MAW_method, expo)\n",
        "\n",
        "    if (kf_list != None) and (kf_img):\n",
        "        dtw_path=desktop+slash+'dtw'\n",
        "        # !rm -rf \"{dtw_path}/dtw_{name_vid1}_{name_vid2}_{sim_diff_function.__name__}\"\n",
        "        !mkdir \"{dtw_path}{slash}dtw_{name_vid1}_{name_vid2}_{sim_diff_function.__name__}\"\n",
        "        !mkdir \"{dtw_path}{slash}dtw_{name_vid1}_{name_vid2}_{sim_diff_function.__name__}{slash}{weight_name}{window}{maw_met_name}{expo_name}{thresh_name}{keyframe_name}\"\n",
        "\n",
        "        save_kf_img(name_vid1, name_vid2, all_frame1, all_frame2,\n",
        "                    kf_list, stkf_list, '{}{}dtw_{}_{}_{}{}{}{}{}{}{}{}'.format(dtw_path, slash, name_vid1, name_vid2, sim_diff_function.__name__, slash,\n",
        "                                                                                weight_name, window, maw_met_name, expo_name, thresh_name, keyframe_name))\n",
        "\n",
        "    Non_sync_one_to_many_pair  = vert_hor - (np.abs(len(all_frame1) - len(all_frame2)))\n",
        "    Non_sync_one_to_many_pair_percent = ((Non_sync_one_to_many_pair /min(len(all_frame1), len(all_frame2))) *100)/2\n",
        "\n",
        "    if showtext:\n",
        "        print('จำนวนคู่เฟรมใน path : ' + str(len(path)))\n",
        "        print('จำนวนเฟรมของ vdo 1 : ' + str(len(all_frame1)))\n",
        "        print('จำนวนเฟรมของ vdo 2 : ' + str(len(all_frame2)))\n",
        "        print('จำนวนเฟรม vdo1 - vdo2 : ' + str(np.abs(len(all_frame1) - len(all_frame2))))\n",
        "        print('จำนวนแนวนอนแนวตั้ง:' + str(vert_hor))\n",
        "        print('Non_sync_one_to_many_pair :' + str(Non_sync_one_to_many_pair ))\n",
        "        print('Non_sync_one_to_many_pair_percent :' + str(Non_sync_one_to_many_pair_percent ))\n",
        "\n",
        "    if video:\n",
        "\n",
        "        display_img(name_vid1, name_vid2, path, dist_mat, dist_lndmk_mat, weight,\n",
        "                    sim_diff_function, path_finder, all_frame1, all_frame2, cam_land_vid1, cam_land_vid2,\n",
        "                    destination_path)\n",
        "\n",
        "        # doesn't have cost_mat\n",
        "        # plot_dtw(path, cost_mat, name_vid1, name_vid2, sim_diff_function, destination_path)\n",
        "\n",
        "    return cost, Non_sync_one_to_many_pair_percent, stats, kf_list, stkf_list, dist_mat"
      ]
    },
    {
      "cell_type": "code",
      "execution_count": 211,
      "metadata": {
        "id": "viWy9_S6-hoz"
      },
      "outputs": [],
      "source": [
        "cam1,world1,frame1 = import_file(friends_video + '{}landmarks{}ศอกเฉียงตีขึ้นหน้า{}ศอกเฉียงตีขึ้นหน้า'.format(slash, slash, slash))\n",
        "cam2,world2,frame2 = import_file(friends_video + '{}landmarks{}ศอกเฉียงตีขึ้นหน้า{}ศอกเฉียงตีขึ้นหน้า_1'.format(slash, slash, slash))"
      ]
    },
    {
      "cell_type": "code",
      "execution_count": 212,
      "metadata": {
        "id": "JmuAPweXpSz8"
      },
      "outputs": [],
      "source": [
        "# cost_kf, non_sync_kf, stats_kf = comparevid_kf(diff_angle + '{}landmarks{}เข่าตรงหลัง{}เข่าตรงหลัง_ตรง'.format(slash, slash, slash),\n",
        "#                                             diff_angle + '{}landmarks{}เข่าตรงหลัง{}เข่าตรงหลัง_เฉียง'.format(slash, slash, slash),\n",
        "#                                             diff_angle_dict['เข่าตรงหลัง_ตรง'],\n",
        "#                                             desktop+slash+'dtw',\n",
        "#                                             angle_similarity, find_angle, dp,\n",
        "#                                             weight = False,\n",
        "#                                             norm_value=45,\n",
        "#                                             windows=30, thresh=False, expo=False, video=False)"
      ]
    },
    {
      "cell_type": "code",
      "execution_count": 213,
      "metadata": {
        "id": "HpevVnVYgTFU"
      },
      "outputs": [],
      "source": [
        "# cost_kf, non_sync_kf, stats_kf = comparevid_kf(friends_video + '{}landmarks{}หมัดกระแทกหน้า{}หมัดกระแทกหน้า_4'.format(slash, slash, slash),\n",
        "#                                             friends_video + '{}landmarks{}เตะเฉียงหน้า{}เตะเฉียงหน้า'.format(slash, slash, slash),\n",
        "#                                             friends_video_dict['หมัดกระแทกหน้า_4'],\n",
        "#                                             desktop+slash+'dtw',\n",
        "#                                             angle_similarity, find_angle, dp,\n",
        "#                                             weight = False,\n",
        "#                                             norm_value=45,\n",
        "#                                             windows=60, thresh=False, expo=False, video=False)"
      ]
    },
    {
      "cell_type": "code",
      "execution_count": 214,
      "metadata": {
        "id": "ozjG91O_kSNs"
      },
      "outputs": [],
      "source": [
        "# cost_kf, non_sync_kf, stats_kf = comparevid_kf(friends_video + '{}landmarks{}เตะเฉียงหน้า{}เตะเฉียงหน้า'.format(slash, slash, slash),\n",
        "#                                             friends_video + '{}landmarks{}เตะเฉียงหน้า{}เตะเฉียงหน้า_2'.format(slash, slash, slash),[],\n",
        "#                                             desktop+slash+'dtw',\n",
        "#                                             cosine_similarity, find_limb, dp,\n",
        "#                                             weight = False,\n",
        "#                                             norm_value=45,\n",
        "#                                             windows=60, thresh=False, expo=False, video=True)"
      ]
    },
    {
      "cell_type": "code",
      "execution_count": 215,
      "metadata": {
        "id": "o0ciE7UgkUIS"
      },
      "outputs": [],
      "source": [
        "# cost_kf, non_sync_kf, stats_kf = comparevid_kf(friends_video + '{}landmarks{}หมัดกระแทกหน้า{}หมัดกระแทกหน้า'.format(slash, slash, slash),\n",
        "#                                             friends_video + '{}landmarks{}เข่าพร้อมศอกหลัง{}เข่าพร้อมศอกหลัง'.format(slash, slash, slash),[],\n",
        "#                                             desktop+slash+'dtw',\n",
        "#                                             cosine_difference, find_limb, dp,\n",
        "#                                             weight = False,\n",
        "#                                             norm_value=45,\n",
        "#                                             windows=60, thresh=False, expo=True, video=True)"
      ]
    },
    {
      "cell_type": "markdown",
      "metadata": {
        "id": "2L55anCpkqg2"
      },
      "source": [
        "# Summary report"
      ]
    },
    {
      "cell_type": "code",
      "execution_count": 216,
      "metadata": {
        "id": "BbBYMubNo2y9"
      },
      "outputs": [],
      "source": [
        "def warp_sum_cosine_kf(path_vid1: str, path_vid2: str, keyframe_list: list, weight, norm_value: int,\n",
        "                       windows=30, thresh=False, MAW_method='aj', expo=False, video=False, kf_img=False):\n",
        "\n",
        "    # bottom-right to top-left\n",
        "    cost_sim_dp, non_sync_diff_sim_dp, stats_sim_dp, kf, stkf, dist_mat = comparevid_kf(path_landmark1=path_vid1,\n",
        "                                                                                        path_landmark2=path_vid2,\n",
        "                                                                                        keyframes_list=keyframe_list,\n",
        "                                                                                        destination_path=desktop+slash+'dtw',\n",
        "                                                                                        sim_diff_function=cosine_similarity,\n",
        "                                                                                        extract_function=find_limb,\n",
        "                                                                                        path_finder=dp,\n",
        "                                                                                        weight=weight,\n",
        "                                                                                        norm_value=norm_value,\n",
        "                                                                                        windows=windows,\n",
        "                                                                                        showtext=False,\n",
        "                                                                                        thresh=thresh,\n",
        "                                                                                        MAW_method=MAW_method,\n",
        "                                                                                        expo=expo,\n",
        "                                                                                        video=video,\n",
        "                                                                                        kf_img=kf_img)\n",
        "\n",
        "    cost_list = [cost_sim_dp]\n",
        "    frames_list = [stats_sim_dp[3]]\n",
        "    mean_list = [stats_sim_dp[2]]\n",
        "    std_uni_list = [stats_sim_dp[1]]\n",
        "    std_all_list = [stats_sim_dp[0]]\n",
        "    non_sync_list = [non_sync_diff_sim_dp]\n",
        "    method_list = ['cosine similarity (br-tl)']\n",
        "    vid_name_list = ['{}_{}'.format(path_vid1.split(\n",
        "        slash)[-1], path_vid2.split(slash)[-1])]\n",
        "\n",
        "    return cost_list, mean_list, std_all_list, std_uni_list, frames_list, non_sync_list, method_list, vid_name_list, kf, stkf, dist_mat"
      ]
    },
    {
      "cell_type": "code",
      "execution_count": 217,
      "metadata": {
        "id": "OnhVrug6fho_"
      },
      "outputs": [],
      "source": [
        "# warp_sum_cosine_kf(friends_video + '{}landmarks{}หมัดกระแทกหน้า{}หมัดกระแทกหน้า_4'.format(slash, slash, slash),\n",
        "#                 friends_video + '{}landmarks{}เตะเฉียงหน้า{}เตะเฉียงหน้า'.format(slash, slash, slash),\n",
        "#                 friends_video_dict['หมัดกระแทกหน้า_4'],\n",
        "#                 weight = False,\n",
        "#                 norm_value=45,\n",
        "#                 windows=60, thresh=False, expo=False, video=False,\n",
        "#                 kf_img=False)"
      ]
    },
    {
      "cell_type": "code",
      "execution_count": 218,
      "metadata": {
        "id": "z3brAYSBgFRT"
      },
      "outputs": [],
      "source": [
        "# warp_sum_cosine_kf(diff_angle + '{}landmarks{}เข่าตรงหลัง{}เข่าตรงหลัง1_ตรง'.format(slash, slash, slash),\n",
        "#                 diff_angle + '{}landmarks{}เข่าตรงหลัง{}เข่าตรงหลัง1_เฉียง'.format(slash, slash, slash),\n",
        "#                 diff_angle_dict['เข่าตรงหลัง_ตรง'],\n",
        "#                 weight = False,\n",
        "#                 norm_value=45,\n",
        "#                 windows=30, thresh=False, expo=False, video=False,\n",
        "#                 kf_img=False)"
      ]
    },
    {
      "cell_type": "code",
      "execution_count": 219,
      "metadata": {
        "id": "7VeO-_kVADq2"
      },
      "outputs": [],
      "source": [
        "def warp_sum_angle_kf(path_vid1: str, path_vid2: str, keyframe_list: list, weight, norm_value: int,\n",
        "                      windows=30, thresh=False,  MAW_method='aj', expo=False, video=False, kf_img=False):\n",
        "\n",
        "    # bottom-right to top-left\n",
        "    cost_sim_dp, non_sync_diff_sim_dp, stats_sim_dp, kf, stkf, dist_mat = comparevid_kf(path_landmark1=path_vid1,\n",
        "                                                                                        path_landmark2=path_vid2,\n",
        "                                                                                        keyframes_list=keyframe_list,\n",
        "                                                                                        destination_path=desktop+slash+'dtw',\n",
        "                                                                                        sim_diff_function=angle_similarity,\n",
        "                                                                                        extract_function=find_angle,\n",
        "                                                                                        path_finder=dp,\n",
        "                                                                                        weight=weight,\n",
        "                                                                                        norm_value=norm_value,\n",
        "                                                                                        windows=windows,\n",
        "                                                                                        showtext=False,\n",
        "                                                                                        thresh=thresh,\n",
        "                                                                                        MAW_method=MAW_method,\n",
        "                                                                                        expo=expo,\n",
        "                                                                                        video=video,\n",
        "                                                                                        kf_img=kf_img)\n",
        "\n",
        "    cost_list = [cost_sim_dp]\n",
        "    frames_list = [stats_sim_dp[3]]\n",
        "    mean_list = [stats_sim_dp[2]]\n",
        "    std_uni_list = [stats_sim_dp[1]]\n",
        "    std_all_list = [stats_sim_dp[0]]\n",
        "    non_sync_list = [non_sync_diff_sim_dp]\n",
        "    method_list = ['angle similarity (br-tl)']\n",
        "    vid_name_list = ['{}_{}'.format(path_vid1.split(\n",
        "        slash)[-1], path_vid2.split(slash)[-1])]\n",
        "\n",
        "    return cost_list, mean_list, std_all_list, std_uni_list, frames_list, non_sync_list, method_list, vid_name_list, kf, stkf, dist_mat"
      ]
    },
    {
      "cell_type": "code",
      "execution_count": 220,
      "metadata": {
        "id": "bZqAO7V0gNKX"
      },
      "outputs": [],
      "source": [
        "# warp_sum_angle_kf(friends_video + '{}landmarks{}หมัดกระแทกหน้า{}หมัดกระแทกหน้า_4'.format(slash, slash, slash),\n",
        "#                 friends_video + '{}landmarks{}เตะเฉียงหน้า{}เตะเฉียงหน้า'.format(slash, slash, slash),\n",
        "#                 friends_video_dict['หมัดกระแทกหน้า_4'],\n",
        "#                 weight = False,\n",
        "#                 norm_value=45,\n",
        "#                 windows=60, thresh=False, expo=False, video=False,\n",
        "#                 kf_img=False)"
      ]
    },
    {
      "cell_type": "code",
      "execution_count": 221,
      "metadata": {
        "id": "rNk-flGigQVk"
      },
      "outputs": [],
      "source": [
        "# warp_sum_angle_kf(diff_angle + '{}landmarks{}เข่าตรงหลัง{}เข่าตรงหลัง1_ตรง'.format(slash, slash, slash),\n",
        "#                 diff_angle + '{}landmarks{}เข่าตรงหลัง{}เข่าตรงหลัง1_เฉียง'.format(slash, slash, slash),\n",
        "#                 diff_angle_dict['เข่าตรงหลัง_ตรง'],\n",
        "\n",
        "#                 weight = False,\n",
        "#                 norm_value=45,\n",
        "#                 windows=30, thresh=False, expo=False, video=False,\n",
        "#                 kf_img=False)"
      ]
    },
    {
      "cell_type": "code",
      "execution_count": 222,
      "metadata": {
        "id": "6iS_WiKa72uC"
      },
      "outputs": [],
      "source": [
        "def case1_kf(path: str, keyframe_dict: dict, weight, threshold: bool, exponential: bool,\n",
        "             angle_cosine_func, auto_method='aj', window=30, video=True, kf_img=False):\n",
        "\n",
        "    thresh_name = ''\n",
        "    expo_name = ''\n",
        "    keyframe_name = ''\n",
        "\n",
        "    if weight:\n",
        "        weight_name = '-Weight'\n",
        "    else:\n",
        "        weight_name = '-Unweight'\n",
        "\n",
        "    if weight == 'auto':\n",
        "        weight_name = '-MAW'\n",
        "    else:\n",
        "        window = ''\n",
        "\n",
        "    if threshold:\n",
        "        thresh_name = '-thresh'\n",
        "\n",
        "    if exponential:\n",
        "        expo_name = '-expo'\n",
        "\n",
        "    if auto_method == 'me':\n",
        "        maw_met_name = '-my-method'\n",
        "    else:\n",
        "        maw_met_name = ''\n",
        "\n",
        "    if keyframe_dict != []:\n",
        "        keyframe_name = '-keyframe'\n",
        "\n",
        "    func_name = angle_cosine_func.__name__.split('_')[2]\n",
        "\n",
        "    norm_val_list = [180,90,45]\n",
        "    all_cost_list = []\n",
        "    all_mean_list = []\n",
        "    all_std_all_list = []\n",
        "    all_std_uni_list = []\n",
        "    all_frames_list = []\n",
        "    all_non_sync_list = []\n",
        "    all_method_list = []\n",
        "    all_vid_name_list = []\n",
        "    all_norm_list = []\n",
        "    all_case_list = []\n",
        "    all_kf_list = []\n",
        "    all_stkf_list = []\n",
        "    all_kf_score_list = []\n",
        "    all_kf_mean_list = []\n",
        "\n",
        "    # kf_file=glob(f'{desktop}{slash}dtw{slash}**{slash}dtw_*kf*')\n",
        "\n",
        "    for norm in norm_val_list:\n",
        "        for i,j in zip(sorted(glob(path+'{}landmarks{}**{}**_ตรง'.format(slash, slash, slash))),sorted(glob(path+'{}landmarks{}**{}**_เฉียง'.format(slash, slash, slash)))):\n",
        "\n",
        "            vid1_name = i.split(slash)[-1]\n",
        "            vid2_name = j.split(slash)[-1]\n",
        "\n",
        "            check_file_name = f'{desktop}{slash}dtw{slash}dtw_{vid1_name}_{vid2_name}_{func_name}_similarity{slash}dtw_{vid1_name}_kf_{vid2_name}_kf_{func_name}_similarity_dp{weight_name}{window}{maw_met_name}{expo_name}{thresh_name}{keyframe_name}.csv'\n",
        "\n",
        "            print(check_file_name)\n",
        "\n",
        "            # if check_file_name in kf_file:\n",
        "            #     print('already has file')\n",
        "            #     continue\n",
        "            if keyframe_dict == []:\n",
        "                kf = []\n",
        "            else:\n",
        "                kf = keyframe_dict[vid1_name]\n",
        "\n",
        "            cost_list, mean_list, std_all_list, std_uni_list, frames_list, non_sync_list, method_list, vid_name_list, kf, stkf, dist_mat = angle_cosine_func(path_vid1=i,\n",
        "                                                                                                                                         path_vid2=j,\n",
        "                                                                                                                                         keyframe_list=kf,\n",
        "                                                                                                                                         weight=weight,\n",
        "                                                                                                                                         norm_value=norm,\n",
        "                                                                                                                                         thresh=threshold,\n",
        "                                                                                                                                         windows=window,\n",
        "                                                                                                                                         expo=exponential,\n",
        "                                                                                                                                         MAW_method=auto_method,\n",
        "                                                                                                                                         video=video,\n",
        "                                                                                                                                         kf_img=kf_img)\n",
        "\n",
        "            all_cost_list.extend(cost_list)\n",
        "            all_mean_list.extend(mean_list)\n",
        "            all_std_all_list.extend(std_all_list)\n",
        "            all_std_uni_list.extend(std_uni_list)\n",
        "            all_frames_list.extend(frames_list)\n",
        "            all_non_sync_list.extend(non_sync_list)\n",
        "            all_method_list.extend(method_list)\n",
        "            all_vid_name_list.extend(vid_name_list)\n",
        "            all_norm_list.extend([norm])\n",
        "            all_case_list.extend(['case1'])\n",
        "            all_kf_list.append(kf)\n",
        "            all_stkf_list.append(stkf)\n",
        "            all_kf_score_list.append(dist_mat[np.array(kf), np.array(stkf)])\n",
        "            all_kf_mean_list.append(np.mean(dist_mat[np.array(kf), np.array(stkf)]))\n",
        "\n",
        "    df_case1 = pd.DataFrame({'Video_name': all_vid_name_list,\n",
        "                             'Similarity_score': all_cost_list,\n",
        "                             'Mean': all_mean_list,\n",
        "                             'Std_all.': all_std_all_list,\n",
        "                             'Std_unique': all_std_uni_list,\n",
        "                             'All_frames_list': all_frames_list,\n",
        "                             'Non_sync_percent': all_non_sync_list,\n",
        "                             'Method': all_method_list,\n",
        "                             'Normalize_value': all_norm_list,\n",
        "                             'Case': all_case_list,\n",
        "                             'Teacher_keyframes': all_kf_list,\n",
        "                             'Student_keyframes': all_stkf_list,\n",
        "                             'Keyframe_scores': all_kf_score_list,\n",
        "                            'Keyframe_mean_score': all_kf_mean_list})\n",
        "\n",
        "    weight_name = weight_name.replace('-','')\n",
        "    file_name = '{}{}{}{}{}{}_{}_case1'.format(weight_name, window, maw_met_name, expo_name,\n",
        "                                                   thresh_name, keyframe_name, func_name)\n",
        "\n",
        "    if glob(desktop + slash + file_name + '*') != 0:\n",
        "        num = len(glob(desktop + slash + file_name + '*'))\n",
        "        df_case1.to_csv(desktop + slash + file_name + '({})'.format(num) + '.csv')\n",
        "    else:\n",
        "        df_case1.to_csv(desktop + slash + file_name + '.csv')"
      ]
    },
    {
      "cell_type": "code",
      "execution_count": 223,
      "metadata": {
        "id": "9xMpBtXqDZ9w"
      },
      "outputs": [],
      "source": [
        "def case2_kf(path: str, keyframe_dict: dict, weight, threshold: bool, exponential: bool,\n",
        "               angle_cosine_func, auto_method='aj', window=30, video=True, kf_img=False):\n",
        "\n",
        "    thresh_name = ''\n",
        "    expo_name = ''\n",
        "    keyframe_name = ''\n",
        "\n",
        "    if weight:\n",
        "        weight_name = '-Weight'\n",
        "    else:\n",
        "        weight_name = '-Unweight'\n",
        "\n",
        "    if weight == 'auto':\n",
        "        weight_name = '-MAW'\n",
        "    else:\n",
        "        window = ''\n",
        "\n",
        "    if threshold:\n",
        "        thresh_name = '-thresh'\n",
        "\n",
        "    if exponential:\n",
        "        expo_name = '-expo'\n",
        "\n",
        "    if auto_method == 'me':\n",
        "        maw_met_name = '-my-method'\n",
        "    else:\n",
        "        maw_met_name = ''\n",
        "\n",
        "    if keyframe_dict != []:\n",
        "        keyframe_name = '-keyframe'\n",
        "\n",
        "    func_name = angle_cosine_func.__name__.split('_')[2]\n",
        "\n",
        "    norm_val_list = [180,90,45]\n",
        "    all_cost_list = []\n",
        "    all_mean_list = []\n",
        "    all_std_all_list = []\n",
        "    all_std_uni_list = []\n",
        "    all_frames_list = []\n",
        "    all_non_sync_list = []\n",
        "    all_method_list = []\n",
        "    all_vid_name_list = []\n",
        "    all_norm_list = []\n",
        "    all_case_list = []\n",
        "    all_kf_list = []\n",
        "    all_stkf_list = []\n",
        "    all_kf_score_list = []\n",
        "    all_kf_mean_list = []\n",
        "\n",
        "    # kf_file=glob(f'{desktop}{slash}dtw{slash}**{slash}dtw_*kf*')\n",
        "\n",
        "    all_vid1 = glob(path + '{}landmarks{}**{}**[!0-9]'.format(slash, slash, slash))\n",
        "\n",
        "    for norm in norm_val_list:\n",
        "        for i in all_vid1:\n",
        "\n",
        "            vid1_name = i.split(slash)[-1]\n",
        "\n",
        "            all_vid2 = sorted(glob(path + '{}landmarks{}**{}*{}*[0-9]'.format(slash, slash, vid1_name, slash)))\n",
        "            for j in all_vid2:\n",
        "                vid2_name = j.split(slash)[-1]\n",
        "\n",
        "                print(vid1_name)\n",
        "                print(vid2_name)\n",
        "                print('-----------')\n",
        "                print(i)\n",
        "                print(j)\n",
        "                print('-----------')\n",
        "\n",
        "                # check_file_name = f'{desktop}{slash}dtw{slash}dtw_{vid1_name}_{vid2_name}_{func_name}_similarity{slash}dtw_{vid1_name}_kf_{vid2_name}_kf_{func_name}_similarity_dp{weight_name}{window}{maw_met_name}{expo_name}{thresh_name}{keyframe_name}.csv'\n",
        "\n",
        "                # print(check_file_name)\n",
        "\n",
        "                # if check_file_name in kf_file:\n",
        "                #     print('already has file')\n",
        "                #     continue\n",
        "                if keyframe_dict == []:\n",
        "                    kf = []\n",
        "                else:\n",
        "                    kf = keyframe_dict[vid1_name]\n",
        "\n",
        "                cost_list, mean_list, std_all_list, std_uni_list, frames_list, non_sync_list, method_list, vid_name_list, kf, stkf, dist_mat = angle_cosine_func(path_vid1=i,\n",
        "                                                                                                                                             path_vid2=j,\n",
        "                                                                                                                                             keyframe_list=kf,\n",
        "                                                                                                                                             weight=weight,\n",
        "                                                                                                                                             norm_value=norm,\n",
        "                                                                                                                                             windows=window,\n",
        "                                                                                                                                             thresh=threshold,\n",
        "                                                                                                                                             expo=exponential,\n",
        "                                                                                                                                             MAW_method=auto_method,\n",
        "                                                                                                                                             video=video,\n",
        "                                                                                                                                             kf_img=kf_img)\n",
        "                all_cost_list.extend(cost_list)\n",
        "                all_mean_list.extend(mean_list)\n",
        "                all_std_all_list.extend(std_all_list)\n",
        "                all_std_uni_list.extend(std_uni_list)\n",
        "                all_frames_list.extend(frames_list)\n",
        "                all_non_sync_list.extend(non_sync_list)\n",
        "                all_method_list.extend(method_list)\n",
        "                all_vid_name_list.extend(vid_name_list)\n",
        "                all_norm_list.extend([norm])\n",
        "                all_case_list.extend(['case2'])\n",
        "                all_kf_list.append(kf)\n",
        "                all_stkf_list.append(stkf)\n",
        "                all_kf_score_list.append(dist_mat[np.array(kf), np.array(stkf)])\n",
        "                all_kf_mean_list.append(np.mean(dist_mat[np.array(kf), np.array(stkf)]))\n",
        "\n",
        "    df_case2 = pd.DataFrame({'Video_name': all_vid_name_list,\n",
        "                            'Similarity_score': all_cost_list,\n",
        "                            'Mean': all_mean_list,\n",
        "                            'Std_all.': all_std_all_list,\n",
        "                            'Std_unique': all_std_uni_list,\n",
        "                            'All_frames_list': all_frames_list,\n",
        "                            'Non_sync_percent': all_non_sync_list,\n",
        "                            'Method': all_method_list,\n",
        "                            'Normalize_value': all_norm_list,\n",
        "                            'Case': all_case_list,\n",
        "                             'Teacher_keyframes': all_kf_list,\n",
        "                             'Student_keyframes': all_stkf_list,\n",
        "                             'Keyframe_scores': all_kf_score_list,\n",
        "                             'Keyframe_mean_score': all_kf_mean_list})\n",
        "\n",
        "    weight_name = weight_name.replace('-','')\n",
        "    file_name = '{}{}{}{}{}{}_{}_case2'.format(weight_name, window, maw_met_name, expo_name,\n",
        "                                                     thresh_name, keyframe_name, func_name)\n",
        "\n",
        "    if glob(desktop + slash + file_name + '*') != 0:\n",
        "        num = len(glob(desktop + slash + file_name + '*'))\n",
        "        df_case2.to_csv(desktop + slash + file_name + '({})'.format(num) + '.csv')\n",
        "    else:\n",
        "        df_case2.to_csv(desktop + slash + file_name + '.csv')"
      ]
    },
    {
      "cell_type": "code",
      "execution_count": 224,
      "metadata": {
        "id": "41cR1bVIB-lu"
      },
      "outputs": [],
      "source": [
        "def case3_kf(path: str, keyframe_dict: dict, weight, threshold: bool, exponential: bool,\n",
        "               angle_cosine_func, auto_method='aj', window=30, video=True, kf_img=False):\n",
        "\n",
        "    thresh_name = ''\n",
        "    expo_name = ''\n",
        "    keyframe_name = ''\n",
        "\n",
        "    if weight:\n",
        "        weight_name = '-Weight'\n",
        "    else:\n",
        "        weight_name = '-Unweight'\n",
        "\n",
        "    if weight == 'auto':\n",
        "        weight_name = '-MAW'\n",
        "    else:\n",
        "        window = ''\n",
        "\n",
        "    if threshold:\n",
        "        thresh_name = '-thresh'\n",
        "\n",
        "    if exponential:\n",
        "        expo_name = '-expo'\n",
        "\n",
        "    if auto_method == 'me':\n",
        "        maw_met_name = '-my-method'\n",
        "    else:\n",
        "        maw_met_name = ''\n",
        "\n",
        "    if keyframe_dict != []:\n",
        "        keyframe_name = '-keyframe'\n",
        "\n",
        "    func_name = angle_cosine_func.__name__.split('_')[2]\n",
        "\n",
        "    norm_val_list = [180,90,45] # เฉพาะ 45 องศา\n",
        "    all_cost_list = []\n",
        "    all_mean_list = []\n",
        "    all_std_all_list = []\n",
        "    all_std_uni_list = []\n",
        "    all_frames_list = []\n",
        "    all_non_sync_list = []\n",
        "    all_method_list = []\n",
        "    all_vid_name_list = []\n",
        "    all_norm_list = []\n",
        "    all_case_list = []\n",
        "    all_kf_list = []\n",
        "    all_stkf_list = []\n",
        "    all_kf_score_list = []\n",
        "    all_kf_mean_list = []\n",
        "\n",
        "    # kf_file=glob(f'{desktop}{slash}dtw{slash}**{slash}dtw_*kf*')\n",
        "\n",
        "    all_vid1 = glob(path + '{}landmarks{}**{}**[!0-9]'.format(slash, slash, slash))\n",
        "\n",
        "    for norm in norm_val_list:\n",
        "        for i in all_vid1:\n",
        "\n",
        "            vid1_name = i.split(slash)[-1]\n",
        "\n",
        "            all_vid2 = sorted(glob(path + '{}landmarks{}**[!{}]*{}*[0-9]'.format(slash, slash, vid1_name, slash)))\n",
        "            for j in all_vid2:\n",
        "                vid2_name = j.split(slash)[-1]\n",
        "\n",
        "                print(vid1_name)\n",
        "                print(vid2_name)\n",
        "                print('-----------')\n",
        "                print(i)\n",
        "                print(j)\n",
        "                print('-----------')\n",
        "\n",
        "                # check_file_name = f'{desktop}{slash}dtw{slash}dtw_{vid1_name}_{vid2_name}_{func_name}_similarity{slash}dtw_{vid1_name}_kf_{vid2_name}_kf_{func_name}_similarity_dp{weight_name}{window}{maw_met_name}{expo_name}{thresh_name}{keyframe_name}.csv'\n",
        "\n",
        "                # print(check_file_name)\n",
        "\n",
        "                # if check_file_name in kf_file:\n",
        "                #     print('already has file')\n",
        "                #     continue\n",
        "                if keyframe_dict == []:\n",
        "                    kf = []\n",
        "                else:\n",
        "                    kf = keyframe_dict[vid1_name]\n",
        "\n",
        "                cost_list, mean_list, std_all_list, std_uni_list, frames_list, non_sync_list, method_list, vid_name_list, kf ,stkf, dist_mat = angle_cosine_func(path_vid1=i,\n",
        "                                                                                                                                             path_vid2=j,\n",
        "                                                                                                                                             keyframe_list=kf,\n",
        "                                                                                                                                             weight=weight,\n",
        "                                                                                                                                             norm_value=norm,\n",
        "                                                                                                                                             windows=window,\n",
        "                                                                                                                                             thresh=threshold,\n",
        "                                                                                                                                             expo=exponential,\n",
        "                                                                                                                                             MAW_method=auto_method,\n",
        "                                                                                                                                             video=video,\n",
        "                                                                                                                                             kf_img=kf_img)\n",
        "                all_cost_list.extend(cost_list)\n",
        "                all_mean_list.extend(mean_list)\n",
        "                all_std_all_list.extend(std_all_list)\n",
        "                all_std_uni_list.extend(std_uni_list)\n",
        "                all_frames_list.extend(frames_list)\n",
        "                all_non_sync_list.extend(non_sync_list)\n",
        "                all_method_list.extend(method_list)\n",
        "                all_vid_name_list.extend(vid_name_list)\n",
        "                all_norm_list.extend([norm])\n",
        "                all_case_list.extend(['case3'])\n",
        "                all_kf_list.append(kf)\n",
        "                all_stkf_list.append(stkf)\n",
        "                all_kf_score_list.append(dist_mat[np.array(kf), np.array(stkf)])\n",
        "                all_kf_mean_list.append(np.mean(dist_mat[np.array(kf), np.array(stkf)]))\n",
        "\n",
        "    df_case3 = pd.DataFrame({'Video_name': all_vid_name_list,\n",
        "                            'Similarity_score': all_cost_list,\n",
        "                            'Mean': all_mean_list,\n",
        "                            'Std_all.': all_std_all_list,\n",
        "                            'Std_unique': all_std_uni_list,\n",
        "                            'All_frames_list': all_frames_list,\n",
        "                            'Non_sync_percent': all_non_sync_list,\n",
        "                            'Method': all_method_list,\n",
        "                            'Normalize_value': all_norm_list,\n",
        "                            'Case': all_case_list,\n",
        "                             'Teacher_keyframes': all_kf_list,\n",
        "                             'Student_keyframes': all_stkf_list,\n",
        "                             'Keyframe_scores': all_kf_score_list,\n",
        "                             'Keyframe_mean_score': all_kf_mean_list})\n",
        "\n",
        "    weight_name = weight_name.replace('-','')\n",
        "    file_name = '{}{}{}{}{}{}_{}_case3'.format(weight_name, window, maw_met_name, expo_name,\n",
        "                                                     thresh_name, keyframe_name, func_name)\n",
        "\n",
        "    if glob(desktop + slash + file_name + '*') != 0:\n",
        "        num = len(glob(desktop + slash + file_name + '*'))\n",
        "        df_case3.to_csv(desktop + slash + file_name + '({})'.format(num) + '.csv')\n",
        "    else:\n",
        "        df_case3.to_csv(desktop + slash + file_name + '.csv')"
      ]
    },
    {
      "cell_type": "markdown",
      "metadata": {
        "id": "_AlwRAM06F3P"
      },
      "source": [
        "# Run"
      ]
    },
    {
      "cell_type": "markdown",
      "metadata": {
        "id": "HMC32-8kkt1o"
      },
      "source": [
        "## Unweight cosine"
      ]
    },
    {
      "cell_type": "markdown",
      "metadata": {
        "id": "UNcCXeCclr80"
      },
      "source": [
        "### Case1"
      ]
    },
    {
      "cell_type": "code",
      "source": [
        "case1_kf(path = diff_angle,\n",
        "         keyframe_dict = [], #diff_angle_dict\n",
        "         weight = False,\n",
        "         threshold = False,\n",
        "         exponential = False,\n",
        "         angle_cosine_func = warp_sum_cosine_kf,\n",
        "         kf_img = False,\n",
        "         video = False)"
      ],
      "metadata": {
        "id": "52LvwUttn5mQ"
      },
      "execution_count": null,
      "outputs": []
    },
    {
      "cell_type": "code",
      "execution_count": null,
      "metadata": {
        "id": "8ZWdj-z00oMP",
        "scrolled": false
      },
      "outputs": [],
      "source": [
        "case1_kf(path = diff_angle,\n",
        "         keyframe_dict = diff_angle_dict, #diff_angle_dict\n",
        "         weight = False,\n",
        "         threshold = False,\n",
        "         exponential = False,\n",
        "         angle_cosine_func = warp_sum_cosine_kf,\n",
        "         kf_img = False,\n",
        "         video = False)"
      ]
    },
    {
      "cell_type": "code",
      "execution_count": null,
      "metadata": {
        "id": "iF4LbjJEXlJZ"
      },
      "outputs": [],
      "source": [
        "!mv 'Unweight_cosine_case1.csv' '/content/drive/MyDrive/muaythai_result'"
      ]
    },
    {
      "cell_type": "markdown",
      "metadata": {
        "id": "qxRlV66ijBYo"
      },
      "source": [
        "### case 2"
      ]
    },
    {
      "cell_type": "code",
      "source": [
        "case2_kf(path = friends_video,\n",
        "           keyframe_dict = [], #friends_video_dict\n",
        "           weight = False,\n",
        "           threshold = False,\n",
        "           exponential = False,\n",
        "           angle_cosine_func = warp_sum_cosine_kf,\n",
        "           kf_img = False,\n",
        "           video = False)"
      ],
      "metadata": {
        "id": "m94OWt0ln8L8"
      },
      "execution_count": null,
      "outputs": []
    },
    {
      "cell_type": "code",
      "execution_count": null,
      "metadata": {
        "id": "JnGNgkQf0r13",
        "scrolled": true
      },
      "outputs": [],
      "source": [
        "case2_kf(path = friends_video,\n",
        "           keyframe_dict = friends_video_dict, #friends_video_dict\n",
        "           weight = False,\n",
        "           threshold = False,\n",
        "           exponential = False,\n",
        "           angle_cosine_func = warp_sum_cosine_kf,\n",
        "           kf_img = False,\n",
        "           video = False)"
      ]
    },
    {
      "cell_type": "code",
      "execution_count": null,
      "metadata": {
        "id": "epWeqz6iX9FF"
      },
      "outputs": [],
      "source": [
        "!mv 'Unweight_cosine_case2.csv' '/content/drive/MyDrive/muaythai_result'"
      ]
    },
    {
      "cell_type": "markdown",
      "metadata": {
        "id": "fG4mOyErDb9n"
      },
      "source": [
        "### Case 3"
      ]
    },
    {
      "cell_type": "code",
      "source": [
        "case3_kf(path = friends_video,\n",
        "           keyframe_dict = [],\n",
        "           weight = False,\n",
        "           threshold = False,\n",
        "           exponential = False,\n",
        "           angle_cosine_func = warp_sum_cosine_kf,\n",
        "           kf_img = False,\n",
        "           video = False)"
      ],
      "metadata": {
        "id": "JsUxDujvoAjw"
      },
      "execution_count": null,
      "outputs": []
    },
    {
      "cell_type": "code",
      "execution_count": null,
      "metadata": {
        "id": "EobI3lwZDXqI"
      },
      "outputs": [],
      "source": [
        "case3_kf(path = friends_video,\n",
        "           keyframe_dict = friends_video_dict,\n",
        "           weight = False,\n",
        "           threshold = False,\n",
        "           exponential = False,\n",
        "           angle_cosine_func = warp_sum_cosine_kf,\n",
        "           kf_img = False,\n",
        "           video = False)"
      ]
    },
    {
      "cell_type": "code",
      "execution_count": null,
      "metadata": {
        "id": "3V2axF8UDhuz"
      },
      "outputs": [],
      "source": [
        "!mv 'Unweight_cosine_case3.csv' '/content/drive/MyDrive/muaythai_result'"
      ]
    },
    {
      "cell_type": "markdown",
      "metadata": {
        "id": "2sTmpk-ekyTF"
      },
      "source": [
        "## Unweight angle"
      ]
    },
    {
      "cell_type": "markdown",
      "metadata": {
        "id": "mRJN8AnBAtc3"
      },
      "source": [
        "### case 1"
      ]
    },
    {
      "cell_type": "code",
      "source": [
        "%%capture\n",
        "case1_kf(path = diff_angle,\n",
        "         keyframe_dict = [],\n",
        "         weight = False,\n",
        "         threshold = False,\n",
        "         exponential = False,\n",
        "         angle_cosine_func = warp_sum_angle_kf,\n",
        "         kf_img = False,\n",
        "         video = False)"
      ],
      "metadata": {
        "id": "cBqT12cHoCz7"
      },
      "execution_count": null,
      "outputs": []
    },
    {
      "cell_type": "code",
      "execution_count": null,
      "metadata": {
        "id": "O0mxJ3ROhWXo"
      },
      "outputs": [],
      "source": [
        "%%capture\n",
        "case1_kf(path = diff_angle,\n",
        "         keyframe_dict = diff_angle_dict,\n",
        "         weight = False,\n",
        "         threshold = False,\n",
        "         exponential = False,\n",
        "         angle_cosine_func = warp_sum_angle_kf,\n",
        "         kf_img = False,\n",
        "         video = False)"
      ]
    },
    {
      "cell_type": "code",
      "execution_count": null,
      "metadata": {
        "id": "LsB0keEgX_c6"
      },
      "outputs": [],
      "source": [
        "!mv 'Unweight_angle_case1.csv' '/content/drive/MyDrive/muaythai_result'"
      ]
    },
    {
      "cell_type": "markdown",
      "metadata": {
        "id": "RTj9SL8IiR6m"
      },
      "source": [
        "### case 2"
      ]
    },
    {
      "cell_type": "code",
      "source": [
        "%%capture\n",
        "case2_kf(path = friends_video,\n",
        "           keyframe_dict = [],\n",
        "           weight = False,\n",
        "           threshold = False,\n",
        "           exponential = False,\n",
        "           angle_cosine_func = warp_sum_angle_kf,\n",
        "           kf_img = False,\n",
        "           video = False)"
      ],
      "metadata": {
        "id": "97BxMnRzoEe-"
      },
      "execution_count": null,
      "outputs": []
    },
    {
      "cell_type": "code",
      "execution_count": null,
      "metadata": {
        "id": "_3nuhLo_hcTl"
      },
      "outputs": [],
      "source": [
        "%%capture\n",
        "case2_kf(path = friends_video,\n",
        "           keyframe_dict = friends_video_dict,\n",
        "           weight = False,\n",
        "           threshold = False,\n",
        "           exponential = False,\n",
        "           angle_cosine_func = warp_sum_angle_kf,\n",
        "           kf_img = False,\n",
        "           video = False)"
      ]
    },
    {
      "cell_type": "code",
      "execution_count": null,
      "metadata": {
        "id": "zk0MSWUHYCPS"
      },
      "outputs": [],
      "source": [
        "!mv 'Unweight_angle_case2.csv' '/content/drive/MyDrive/muaythai_result'"
      ]
    },
    {
      "cell_type": "markdown",
      "metadata": {
        "id": "kwnBmJqOoyvf"
      },
      "source": [
        "### case 3"
      ]
    },
    {
      "cell_type": "code",
      "source": [
        "%%capture\n",
        "case3_kf(path = friends_video,\n",
        "           keyframe_dict = [],\n",
        "           weight = False,\n",
        "           threshold = False,\n",
        "           exponential = False,\n",
        "           angle_cosine_func = warp_sum_angle_kf,\n",
        "           kf_img = False,\n",
        "           video = False)"
      ],
      "metadata": {
        "id": "omZPpGhJoIlt"
      },
      "execution_count": null,
      "outputs": []
    },
    {
      "cell_type": "code",
      "execution_count": null,
      "metadata": {
        "id": "1ePC1kQIElDL"
      },
      "outputs": [],
      "source": [
        "%%capture\n",
        "case3_kf(path = friends_video,\n",
        "           keyframe_dict = friends_video_dict,\n",
        "           weight = False,\n",
        "           threshold = False,\n",
        "           exponential = False,\n",
        "           angle_cosine_func = warp_sum_angle_kf,\n",
        "           kf_img = False,\n",
        "           video = False)"
      ]
    },
    {
      "cell_type": "code",
      "execution_count": null,
      "metadata": {
        "id": "dRZunDVVEiqx"
      },
      "outputs": [],
      "source": [
        "!mv 'Unweight_angle_case3.csv' '/content/drive/MyDrive/muaythai_result'"
      ]
    },
    {
      "cell_type": "markdown",
      "metadata": {
        "id": "IwjyQVBuk2sk"
      },
      "source": [
        "## Weight cosine"
      ]
    },
    {
      "cell_type": "markdown",
      "metadata": {
        "id": "9vmlq235vQ3Y"
      },
      "source": [
        "### case 1"
      ]
    },
    {
      "cell_type": "code",
      "execution_count": null,
      "metadata": {
        "id": "kFk611Zxhkbh"
      },
      "outputs": [],
      "source": [
        "%%capture\n",
        "case1_kf(path = diff_angle,\n",
        "         keyframe_dict = diff_angle_dict,\n",
        "         weight = True,\n",
        "         threshold = False,\n",
        "         exponential = True,\n",
        "         angle_cosine_func = warp_sum_cosine_kf,\n",
        "         kf_img = False,\n",
        "         video = False)"
      ]
    },
    {
      "cell_type": "code",
      "execution_count": null,
      "metadata": {
        "id": "qQLaTRE8YEwB"
      },
      "outputs": [],
      "source": [
        "!mv 'Weight-expo-keyframe_cosine_case1.csv' '/content/drive/MyDrive/muaythai_result'"
      ]
    },
    {
      "cell_type": "markdown",
      "metadata": {
        "id": "mduGgRetvTBQ"
      },
      "source": [
        "### case 2\n"
      ]
    },
    {
      "cell_type": "code",
      "execution_count": null,
      "metadata": {
        "id": "HnpA6KDbhwMm"
      },
      "outputs": [],
      "source": [
        "%%capture\n",
        "case2_kf(path = friends_video,\n",
        "           keyframe_dict = friends_video_dict,\n",
        "           weight = True,\n",
        "           threshold = False,\n",
        "           exponential = True,\n",
        "           angle_cosine_func = warp_sum_cosine_kf,\n",
        "           kf_img = False,\n",
        "           video = False)"
      ]
    },
    {
      "cell_type": "code",
      "execution_count": null,
      "metadata": {
        "id": "D1ASuEn5YIV2"
      },
      "outputs": [],
      "source": [
        "!mv 'Weight-expo-keyframe_cosine_case2.csv' '/content/drive/MyDrive/muaythai_result'"
      ]
    },
    {
      "cell_type": "markdown",
      "metadata": {
        "id": "y6EVyzGmpGV2"
      },
      "source": [
        "### case 3"
      ]
    },
    {
      "cell_type": "code",
      "execution_count": null,
      "metadata": {
        "id": "mAObLFU8pHk0"
      },
      "outputs": [],
      "source": [
        "%%capture\n",
        "case3_kf(path = friends_video,\n",
        "           keyframe_dict = friends_video_dict,\n",
        "           weight = True,\n",
        "           threshold = False,\n",
        "           exponential = True,\n",
        "           angle_cosine_func = warp_sum_cosine_kf,\n",
        "           kf_img = False,\n",
        "           video = False)"
      ]
    },
    {
      "cell_type": "code",
      "execution_count": null,
      "metadata": {
        "id": "k1UrRFYopKU4"
      },
      "outputs": [],
      "source": [
        "!mv 'Weight-expo-keyframe_cosine_case3.csv' '/content/drive/MyDrive/muaythai_result'"
      ]
    },
    {
      "cell_type": "markdown",
      "metadata": {
        "id": "LOSqj7HVk6Mu"
      },
      "source": [
        "## Weight angle"
      ]
    },
    {
      "cell_type": "markdown",
      "metadata": {
        "id": "-JyAQGiDvVmw"
      },
      "source": [
        "### case 1"
      ]
    },
    {
      "cell_type": "code",
      "execution_count": null,
      "metadata": {
        "id": "UsNVUB4qwa6Q"
      },
      "outputs": [],
      "source": [
        "%%capture\n",
        "case1_kf(path = diff_angle,\n",
        "         keyframe_dict = diff_angle_dict,\n",
        "         weight = True,\n",
        "         threshold = False,\n",
        "         exponential = True,\n",
        "         angle_cosine_func = warp_sum_angle_kf,\n",
        "         kf_img = False,\n",
        "         video = False)"
      ]
    },
    {
      "cell_type": "code",
      "execution_count": null,
      "metadata": {
        "id": "ukZrgMRoYWNL"
      },
      "outputs": [],
      "source": [
        "!mv 'Weight-expo-keyframe_angle_case1.csv' '/content/drive/MyDrive/muaythai_result'"
      ]
    },
    {
      "cell_type": "markdown",
      "metadata": {
        "id": "rtdmS8NPvXKi"
      },
      "source": [
        "### case 2"
      ]
    },
    {
      "cell_type": "code",
      "execution_count": null,
      "metadata": {
        "id": "CD3meRCxxRXQ"
      },
      "outputs": [],
      "source": [
        "%%capture\n",
        "case2_kf(path = friends_video,\n",
        "           keyframe_dict = friends_video_dict,\n",
        "           weight = True,\n",
        "           threshold = False,\n",
        "           exponential = True,\n",
        "           angle_cosine_func = warp_sum_angle_kf,\n",
        "           kf_img = False,\n",
        "           video = False)"
      ]
    },
    {
      "cell_type": "code",
      "execution_count": null,
      "metadata": {
        "id": "lGFL6QG2YYXZ"
      },
      "outputs": [],
      "source": [
        "!mv 'Weight-expo-keyframe_angle_case2.csv' '/content/drive/MyDrive/muaythai_result'"
      ]
    },
    {
      "cell_type": "markdown",
      "metadata": {
        "id": "YWGWAN3rpiP_"
      },
      "source": [
        "### case 3"
      ]
    },
    {
      "cell_type": "code",
      "execution_count": null,
      "metadata": {
        "id": "TDUOx74opj7I"
      },
      "outputs": [],
      "source": [
        "%%capture\n",
        "case3_kf(path = friends_video,\n",
        "           keyframe_dict = friends_video_dict,\n",
        "           weight = True,\n",
        "           threshold = False,\n",
        "           exponential = True,\n",
        "           angle_cosine_func = warp_sum_angle_kf,\n",
        "           kf_img = False,\n",
        "           video = False)"
      ]
    },
    {
      "cell_type": "code",
      "execution_count": null,
      "metadata": {
        "id": "s7fdJ_Wcpp5n"
      },
      "outputs": [],
      "source": [
        "!mv 'Weight-expo-keyframe_angle_case3.csv' '/content/drive/MyDrive/muaythai_result'"
      ]
    },
    {
      "cell_type": "markdown",
      "metadata": {
        "id": "HXWkFk7Sk9CF"
      },
      "source": [
        "## Moving weight cosine"
      ]
    },
    {
      "cell_type": "markdown",
      "metadata": {
        "id": "3TmsOIASx-KJ"
      },
      "source": [
        "### case1"
      ]
    },
    {
      "cell_type": "code",
      "execution_count": null,
      "metadata": {
        "id": "7GlVMvVciCS0"
      },
      "outputs": [],
      "source": [
        "for w in [30,60,90]:\n",
        "    case1_kf(path = diff_angle,\n",
        "            keyframe_dict = diff_angle_dict,\n",
        "            weight = 'auto',\n",
        "            threshold = False,\n",
        "            exponential = True,\n",
        "            angle_cosine_func = warp_sum_cosine_kf,\n",
        "            auto_method='aj',\n",
        "            window=w,\n",
        "            kf_img = False,\n",
        "            video = False)"
      ]
    },
    {
      "cell_type": "code",
      "execution_count": null,
      "metadata": {
        "id": "xHZgLV9fL5pk"
      },
      "outputs": [],
      "source": [
        "!mv '/content/MAW30-expo-keyframe_cosine_case1.csv' '/content/drive/MyDrive/muaythai_result'\n",
        "!mv '/content/MAW60-expo-keyframe_cosine_case1.csv' '/content/drive/MyDrive/muaythai_result'\n",
        "!mv '/content/MAW90-expo-keyframe_cosine_case1.csv' '/content/drive/MyDrive/muaythai_result'"
      ]
    },
    {
      "cell_type": "markdown",
      "metadata": {
        "id": "dzngLrDpyxtP"
      },
      "source": [
        "### case 2"
      ]
    },
    {
      "cell_type": "code",
      "execution_count": null,
      "metadata": {
        "id": "kOy2r5suyxWA"
      },
      "outputs": [],
      "source": [
        "for w in [30,60,90]:\n",
        "    case2_kf(path = friends_video,\n",
        "            keyframe_dict = friends_video_dict,\n",
        "            weight = 'auto',\n",
        "            threshold = False,\n",
        "            exponential = True,\n",
        "            angle_cosine_func = warp_sum_cosine_kf,\n",
        "            auto_method='aj',\n",
        "            window=w,\n",
        "            kf_img = False,\n",
        "            video = False)"
      ]
    },
    {
      "cell_type": "code",
      "execution_count": null,
      "metadata": {
        "id": "zVPkbLGXMJfY"
      },
      "outputs": [],
      "source": [
        "!mv '/content/MAW30-expo-keyframe_cosine_case2.csv' '/content/drive/MyDrive/muaythai_result'\n",
        "!mv '/content/MAW60-expo-keyframe_cosine_case2.csv' '/content/drive/MyDrive/muaythai_result'\n",
        "!mv '/content/MAW90-expo-keyframe_cosine_case2.csv' '/content/drive/MyDrive/muaythai_result'"
      ]
    },
    {
      "cell_type": "markdown",
      "metadata": {
        "id": "KckOYt59qYGM"
      },
      "source": [
        "### case 3"
      ]
    },
    {
      "cell_type": "code",
      "execution_count": null,
      "metadata": {
        "id": "ZKWREa_fqZvR"
      },
      "outputs": [],
      "source": [
        "for w in [30,60,90]:\n",
        "    case3_kf(path = friends_video,\n",
        "            keyframe_dict = friends_video_dict,\n",
        "            weight = 'auto',\n",
        "            threshold = False,\n",
        "            exponential = True,\n",
        "            angle_cosine_func = warp_sum_cosine_kf,\n",
        "            auto_method='aj',\n",
        "            window=w,\n",
        "            kf_img = False,\n",
        "            video = False)"
      ]
    },
    {
      "cell_type": "code",
      "execution_count": null,
      "metadata": {
        "id": "BouUrtOXMMZ1"
      },
      "outputs": [],
      "source": [
        "!mv '/content/MAW30-expo-keyframe_cosine_case3.csv' '/content/drive/MyDrive/muaythai_result'\n",
        "!mv '/content/MAW60-expo-keyframe_cosine_case3.csv' '/content/drive/MyDrive/muaythai_result'\n",
        "!mv '/content/MAW90-expo-keyframe_cosine_case3.csv' '/content/drive/MyDrive/muaythai_result'"
      ]
    },
    {
      "cell_type": "markdown",
      "metadata": {
        "id": "qQI4_iXIlADM"
      },
      "source": [
        "## Moving weight angle"
      ]
    },
    {
      "cell_type": "markdown",
      "metadata": {
        "id": "Xre-AdPhx_d0"
      },
      "source": [
        "### case 1"
      ]
    },
    {
      "cell_type": "code",
      "execution_count": null,
      "metadata": {
        "id": "hI4BVTfMcVqx"
      },
      "outputs": [],
      "source": [
        "for w in [30,60,90]:\n",
        "    case1_kf(path = diff_angle,\n",
        "            keyframe_dict = diff_angle_dict,\n",
        "            weight = 'auto',\n",
        "            threshold = False,\n",
        "            exponential = True,\n",
        "            angle_cosine_func = warp_sum_angle_kf,\n",
        "            auto_method='aj',\n",
        "            window=w,\n",
        "            kf_img = False,\n",
        "            video = False)"
      ]
    },
    {
      "cell_type": "code",
      "execution_count": null,
      "metadata": {
        "id": "Ejn8n-r6MWG8"
      },
      "outputs": [],
      "source": [
        "!mv '/content/MAW30-expo-keyframe_angle_case1.csv' '/content/drive/MyDrive/muaythai_result'\n",
        "!mv '/content/MAW60-expo-keyframe_angle_case1.csv' '/content/drive/MyDrive/muaythai_result'\n",
        "!mv '/content/MAW90-expo-keyframe_angle_case1.csv' '/content/drive/MyDrive/muaythai_result'"
      ]
    },
    {
      "cell_type": "markdown",
      "metadata": {
        "id": "oe8LkAWgy0Ap"
      },
      "source": [
        "### case 2"
      ]
    },
    {
      "cell_type": "code",
      "execution_count": null,
      "metadata": {
        "id": "GN0BGBBAy1K7"
      },
      "outputs": [],
      "source": [
        "for w in [30,60,90]:\n",
        "    case2_kf(path = friends_video,\n",
        "            keyframe_dict = friends_video_dict,\n",
        "            weight = 'auto',\n",
        "            threshold = False,\n",
        "            exponential = True,\n",
        "            angle_cosine_func = warp_sum_angle_kf,\n",
        "            auto_method='aj',\n",
        "            window=w,\n",
        "            kf_img = False,\n",
        "            video = False)"
      ]
    },
    {
      "cell_type": "code",
      "execution_count": null,
      "metadata": {
        "id": "B48qsEPeMbku"
      },
      "outputs": [],
      "source": [
        "!mv '/content/MAW30-expo-keyframe_angle_case2.csv' '/content/drive/MyDrive/muaythai_result'\n",
        "!mv '/content/MAW60-expo-keyframe_angle_case2.csv' '/content/drive/MyDrive/muaythai_result'\n",
        "!mv '/content/MAW90-expo-keyframe_angle_case2.csv' '/content/drive/MyDrive/muaythai_result'"
      ]
    },
    {
      "cell_type": "markdown",
      "metadata": {
        "id": "teePRKocqf3l"
      },
      "source": [
        "### case 3"
      ]
    },
    {
      "cell_type": "code",
      "execution_count": null,
      "metadata": {
        "id": "ok1PpFo5qgyw"
      },
      "outputs": [],
      "source": [
        "for w in [30,60,90]:\n",
        "    case3_kf(path = friends_video,\n",
        "            keyframe_dict = friends_video_dict,\n",
        "            weight = 'auto',\n",
        "            threshold = False,\n",
        "            exponential = True,\n",
        "            angle_cosine_func = warp_sum_angle_kf,\n",
        "            auto_method='aj',\n",
        "            window=w,\n",
        "            kf_img = False,\n",
        "            video = False)"
      ]
    },
    {
      "cell_type": "code",
      "execution_count": null,
      "metadata": {
        "id": "WvWhuFifMeg8"
      },
      "outputs": [],
      "source": [
        "!mv '/content/MAW30-expo-keyframe_angle_case3.csv' '/content/drive/MyDrive/muaythai_result'\n",
        "!mv '/content/MAW60-expo-keyframe_angle_case3.csv' '/content/drive/MyDrive/muaythai_result'\n",
        "!mv '/content/MAW90-expo-keyframe_angle_case3.csv' '/content/drive/MyDrive/muaythai_result'"
      ]
    }
  ],
  "metadata": {
    "colab": {
      "provenance": [],
      "toc_visible": true,
      "include_colab_link": true
    },
    "kernelspec": {
      "display_name": "Python 3 (ipykernel)",
      "language": "python",
      "name": "python3"
    },
    "language_info": {
      "codemirror_mode": {
        "name": "ipython",
        "version": 3
      },
      "file_extension": ".py",
      "mimetype": "text/x-python",
      "name": "python",
      "nbconvert_exporter": "python",
      "pygments_lexer": "ipython3",
      "version": "3.9.12"
    }
  },
  "nbformat": 4,
  "nbformat_minor": 0
}